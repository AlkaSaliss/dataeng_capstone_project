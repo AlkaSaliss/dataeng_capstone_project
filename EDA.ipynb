{
 "cells": [
  {
   "cell_type": "code",
   "execution_count": 1,
   "metadata": {},
   "outputs": [
    {
     "data": {
      "text/html": [
       "\n",
       "<style>\n",
       "    div#notebook-container    { width: 95%; }\n",
       "    div#menubar-container     { width: 95%; }\n",
       "    div#maintoolbar-container { width: 99%; }\n",
       "</style>\n"
      ],
      "text/plain": [
       "<IPython.core.display.HTML object>"
      ]
     },
     "metadata": {},
     "output_type": "display_data"
    }
   ],
   "source": [
    "from IPython.display import display, HTML\n",
    "\n",
    "display(HTML(data=\"\"\"\n",
    "<style>\n",
    "    div#notebook-container    { width: 95%; }\n",
    "    div#menubar-container     { width: 95%; }\n",
    "    div#maintoolbar-container { width: 99%; }\n",
    "</style>\n",
    "\"\"\"))"
   ]
  },
  {
   "cell_type": "markdown",
   "metadata": {},
   "source": [
    "# LOPRO2TS : LOst PROperties Tracking Service in Train Stations\n",
    "\n",
    "## Problem specification\n",
    "\n",
    "A new startup is willing to create an app to allow users to track lost properties in different trains/stations in France, by providing them a AI-empowered step-by-step guidance based on property's characteristics, train station characteristics, etc. Therefore, their first object is to do a market research.<br>\n",
    "To acquire a deep understanding of this mysterious unexplored phenomenon 👽 of lost properties in trains and/or stations, they decided to recruit the famous Data Engineer who helped the **Sparkify** startup to become N°1 in the world : Me 🧐!!! <br>\n",
    "My mission this time is to create an ETL, _uh uhm_, **ELT** pipeline to create a more analytics-friendly version of the dataset they intend to use.\n",
    "\n",
    "They decided to use some open datasets provided by the main French transportation service : [SNCF Group](https://www.sncf.com/en), and also temperature data provided by www.weathernews.fr.\n",
    "\n",
    "\n",
    "## Datasets description\n",
    "\n",
    "### List of French train stations  \n",
    "This dataset is a json file with around 4K records. It lists french train stations and some of their characteristics. The dataset is updated on a yearly basis and can be downloaded [here](https://ressources.data.sncf.com/explore/dataset/referentiel-gares-voyageurs/download/?format=json&timezone=Europe/Berlin&lang=fr).<br>\n",
    "Example of a record in the json file: \n",
    "```json\n",
    "{'datasetid': 'referentiel-gares-voyageurs',\n",
    " 'fields': {'adresse_cp': '93140',\n",
    "            'alias_libelle_noncontraint': 'Remise à Jorelle',\n",
    "            'code': '00002-1',\n",
    "            'commune_code': '010',\n",
    "            'commune_libellemin': 'Bondy',\n",
    "            'departement_libellemin': 'Seine-Saint-Denis',\n",
    "            'departement_numero': '93',\n",
    "            'gare': '{\"DRG_ON\": true, \"Etrangere_ON\": false, \"NbPltf\": 1, '\n",
    "                    '\"Alias_Libelle_NonContraint\": \"Remise à Jorelle\", '\n",
    "                    '\"Alias_Libelle_Fronton\": \"Remise à Jorelle\", '\n",
    "                    '\"AgenceGC_Libelle\": \"Direction Générale des Gares '\n",
    "                    'Île-de-France\", \"RegionSNCF_Libelle\": \"REGION DE '\n",
    "                    'PARIS-EST\", \"UG_Libelle\": null, \"UT_Libelle\": \"BONDY GARE '\n",
    "                    'REMISE A JORELLE TRAM TRAIN\"}',\n",
    "            'gare_agencegc_libelle': 'Direction Générale des Gares '\n",
    "                                     'Île-de-France',\n",
    "            'gare_alias_libelle_fronton': 'Remise à Jorelle',\n",
    "            'gare_alias_libelle_noncontraint': 'Remise à Jorelle',\n",
    "            'gare_drg_on': 'True',\n",
    "            'gare_etrangere_on': 'False',\n",
    "            'gare_nbpltf': 1,\n",
    "            'gare_regionsncf_libelle': 'REGION DE PARIS-EST',\n",
    "            'gare_ut_libelle': 'BONDY GARE REMISE A JORELLE TRAM TRAIN',\n",
    "            'latitude_entreeprincipale_wgs84': '48.893170',\n",
    "            'longitude_entreeprincipale_wgs84': '2.487751',\n",
    "            'rg_libelle': 'Gare La Remise à Jorelle',\n",
    "            'segmentdrg_libelle': 'b',\n",
    "            'tvs': 'RJL',\n",
    "            'tvss': '[{\"TVS_Code\": \"RJL\"}]',\n",
    "            'uic_code': '0087988709',\n",
    "            'wgs_84': [48.89317, 2.487751]},\n",
    " 'geometry': {'coordinates': [2.487751, 48.89317], 'type': 'Point'},\n",
    " 'record_timestamp': '2020-12-29T00:00:51.658+01:00',\n",
    " 'recordid': 'fbaead07f41e47e2c3cc424e43e92972f898b740'}\n",
    "```\n",
    "The most interesting field for us is `fields` with the following sub-fields :\n",
    "* **uic_code** : train station identification code\n",
    "* **alias_libelle_noncontraint** : train station name\n",
    "* **latitude_entreeprincipale_wgs84** and **longitude_entreeprincipale_wgs84** : latitude and longitude resp. of the station main entrance (based on  World Geodetic System 1984)\n",
    "* **commune_code** and **commune_libellemin** : code and name of city where station is located\n",
    "* **departement_numero** and **departement_libellemin** : code and name of the county where the station is located\n",
    "* **adresse_cp** : postal code\n",
    "* **gare_nbpltf** : number of platforms in station\n",
    "* **segmentdrg_libelle** : station category encode as `a`, `b` or `c`, depend on the traffic coverage (nationnal/international, regional, local) and yearly number of passengers\n",
    "\n",
    "\n",
    "### Lost properties declaration dataset \n",
    "\n",
    "This dataset is a csv with around 1.14M records. It contains information on loss declarations made by customers through various media (website, app, in person to SNCF staff, ...).  The dataset is updated on a daily basis and can be found [here](https://ressources.data.sncf.com/explore/dataset/objets-trouves-gares/download/?format=csv&timezone=Europe/Berlin&lang=fr&use_labels_for_header=true&csv_separator=%3B).<br>\n",
    "This dataset is updated on a daily basis.<br>\n",
    "Following are the list of the dataset's columns :\n",
    "* **Date** : date of loss declaration by customer\n",
    "* **Gare** : Name of the train station where the loss was declared\n",
    "* **Code UIC** : train station identification code\n",
    "* **Type d'objets** : category of the property (e.g. category can be `electronics` , `clothes`, ...)\n",
    "* **Nature d'objets** : a more fine-grained category of the property (e.g. `mobile phone`, `scarf`, ...)\n",
    "\n",
    "* **Type d'enregistrement** : recording type. Currently it has only one value : `Déclaration de Perte` (declaration of loss)\n",
    "\n",
    "\n",
    "### Found properties dataset \n",
    "\n",
    "This dataset is a csv with around 700K records. It contains information on lost properties that have been declared by customers and found in trains/stations by staff. The data tells if the property was recovered by its owner. The dataset is updated on a daily basis and can be found [here](https://ressources.data.sncf.com/explore/dataset/objets-trouves-restitution/download/?format=csv&timezone=Europe/Berlin&lang=fr&use_labels_for_header=true&csv_separator=%3B).<br>\n",
    "Following are the list of the dataset's columns :\n",
    "* **Date** : it is unclear whether this is loss declaration date, or date when the property was found by the staff. Therefore we'll consider it as loss declaration date\n",
    "* **Date et heure de restitution** : if property was recovered by its owner, this is the date of recovery\n",
    "* **Gare** : Name of the train station where the property was found\n",
    "* **Code UIC** : train station identification code\n",
    "* **Type d'objets** : category of the property (e.g. category can be `electronics` , `clothes`, ...)\n",
    "* **Nature d'objets** : a more fine-grained category of the property (e.g. `mobile phone`, `scarf`, ...)\n",
    "* **Type d'enregistrement** : recording type. Currently it has only one value : `Objet trouvé` (Found object)\n",
    "\n",
    "\n",
    "### Daily temperatures dataset \n",
    "\n",
    "70% of economic activities are sensitive to temperature data. Also cognitive abilities are shown to be impacted by temperature ([source](https://www.cambridgebrainsciences.com/more/articles/as-temperature-goes-up-cognitive-performance-goes-down#:~:text=A%20hot%20environment%20has%20been,impaired%20more%20than%20simple%20tasks.)). For example uncomfortable heat can diminish cognitive abilities. Thus it seem interesting to include temperature data in our pipeline to hep refine future analysis.\n",
    "\n",
    "This dataset is a csv with around 100K records. It contains information on daily temperatures for each county in France since 2018. The dataset is updated on a monthly basis and can be found [here](https://opendata.reseaux-energies.fr/explore/dataset/temperature-quotidienne-departementale/download/?format=csv&timezone=Europe/Berlin&lang=fr&use_labels_for_header=true&csv_separator=%3B).<br>\n",
    "Following are the list of the dataset's columns :\n",
    "* **Date** : temperature measurement date\n",
    "* **Code INSEE département** : county code\n",
    "* **Département** : county name\n",
    "* **TMin (°C)** : daily minimum temperature in degre celsius\n",
    "* **TMax (°C)** : daily maximum temperature in degre celsius\n",
    "* **TMoy (°C)** : daily average temperature in degre celsius"
   ]
  },
  {
   "cell_type": "code",
   "execution_count": 56,
   "metadata": {},
   "outputs": [
    {
     "data": {
      "text/html": [
       "<div>\n",
       "<style scoped>\n",
       "    .dataframe tbody tr th:only-of-type {\n",
       "        vertical-align: middle;\n",
       "    }\n",
       "\n",
       "    .dataframe tbody tr th {\n",
       "        vertical-align: top;\n",
       "    }\n",
       "\n",
       "    .dataframe thead th {\n",
       "        text-align: right;\n",
       "    }\n",
       "</style>\n",
       "<table border=\"1\" class=\"dataframe\">\n",
       "  <thead>\n",
       "    <tr style=\"text-align: right;\">\n",
       "      <th></th>\n",
       "      <th>Date</th>\n",
       "      <th>Code INSEE département</th>\n",
       "      <th>Département</th>\n",
       "      <th>TMin (°C)</th>\n",
       "      <th>TMax (°C)</th>\n",
       "      <th>TMoy (°C)</th>\n",
       "    </tr>\n",
       "  </thead>\n",
       "  <tbody>\n",
       "    <tr>\n",
       "      <th>0</th>\n",
       "      <td>2019-12-31</td>\n",
       "      <td>87</td>\n",
       "      <td>Haute-Vienne</td>\n",
       "      <td>2.30</td>\n",
       "      <td>10.00</td>\n",
       "      <td>6.15</td>\n",
       "    </tr>\n",
       "    <tr>\n",
       "      <th>1</th>\n",
       "      <td>2019-12-31</td>\n",
       "      <td>19</td>\n",
       "      <td>Corrèze</td>\n",
       "      <td>-2.70</td>\n",
       "      <td>10.90</td>\n",
       "      <td>4.10</td>\n",
       "    </tr>\n",
       "    <tr>\n",
       "      <th>2</th>\n",
       "      <td>2019-12-31</td>\n",
       "      <td>83</td>\n",
       "      <td>Var</td>\n",
       "      <td>4.77</td>\n",
       "      <td>14.08</td>\n",
       "      <td>9.43</td>\n",
       "    </tr>\n",
       "    <tr>\n",
       "      <th>3</th>\n",
       "      <td>2019-12-31</td>\n",
       "      <td>27</td>\n",
       "      <td>Eure</td>\n",
       "      <td>-3.10</td>\n",
       "      <td>5.50</td>\n",
       "      <td>1.20</td>\n",
       "    </tr>\n",
       "    <tr>\n",
       "      <th>4</th>\n",
       "      <td>2019-12-31</td>\n",
       "      <td>23</td>\n",
       "      <td>Creuse</td>\n",
       "      <td>-4.50</td>\n",
       "      <td>13.20</td>\n",
       "      <td>4.35</td>\n",
       "    </tr>\n",
       "  </tbody>\n",
       "</table>\n",
       "</div>"
      ],
      "text/plain": [
       "         Date Code INSEE département   Département  TMin (°C)  TMax (°C)  \\\n",
       "0  2019-12-31                     87  Haute-Vienne       2.30      10.00   \n",
       "1  2019-12-31                     19       Corrèze      -2.70      10.90   \n",
       "2  2019-12-31                     83           Var       4.77      14.08   \n",
       "3  2019-12-31                     27          Eure      -3.10       5.50   \n",
       "4  2019-12-31                     23        Creuse      -4.50      13.20   \n",
       "\n",
       "   TMoy (°C)  \n",
       "0       6.15  \n",
       "1       4.10  \n",
       "2       9.43  \n",
       "3       1.20  \n",
       "4       4.35  "
      ]
     },
     "execution_count": 56,
     "metadata": {},
     "output_type": "execute_result"
    }
   ],
   "source": [
    "df_temp.head()"
   ]
  },
  {
   "cell_type": "markdown",
   "metadata": {},
   "source": [
    "## Exploratory Data Analysis\n",
    "\n",
    "In this section we'll do a preliminary data exploration to have an idea of the various datasets content.<br>\n",
    "Let's first import some packages"
   ]
  },
  {
   "cell_type": "code",
   "execution_count": 2,
   "metadata": {},
   "outputs": [],
   "source": [
    "import pandas as pd\n",
    "import numpy as np\n",
    "import configparser\n",
    "from datetime import datetime\n",
    "import time\n",
    "from dateutil.tz import tzoffset\n",
    "import os\n",
    "import sys\n",
    "import json\n",
    "import pprint\n",
    "\n",
    "pd.set_option(\"display.max_columns\", None)\n",
    "\n",
    "# from pyspark.sql import SparkSession\n",
    "# from pyspark.sql import functions as F\n",
    "# from pyspark.sql.types import IntegerType, FloatType, TimestampType, DateType\n",
    "# spark = SparkSession \\\n",
    "#         .builder \\\n",
    "#         .config(\"spark.jars.package\", \"JohnSnowLabs:spark-nlp:1.8.2\") \\\n",
    "#         .appName(\"sparkify\") \\\n",
    "#         .getOrCreate()"
   ]
  },
  {
   "cell_type": "code",
   "execution_count": null,
   "metadata": {},
   "outputs": [],
   "source": []
  },
  {
   "cell_type": "markdown",
   "metadata": {},
   "source": [
    "### 1. List of train stations"
   ]
  },
  {
   "cell_type": "code",
   "execution_count": 26,
   "metadata": {},
   "outputs": [
    {
     "name": "stdout",
     "output_type": "stream",
     "text": [
      "CPU times: user 60.6 ms, sys: 6.95 ms, total: 67.6 ms\n",
      "Wall time: 66.6 ms\n"
     ]
    }
   ],
   "source": [
    "%%time\n",
    "# Load data\n",
    "with open(\"input_data/referentiel-gares-voyageurs.json\") as f:\n",
    "    train_stations = json.load(f)\n",
    "list_colums = [\"uic_code\", \"alias_libelle_noncontraint\", \"latitude_entreeprincipale_wgs84\", \"longitude_entreeprincipale_wgs84\",\n",
    "               \"commune_code\", \"commune_libellemin\", \"departement_numero\", \"departement_libellemin\", \"adresse_cp\", \"gare_nbpltf\", \"segmentdrg_libelle\"]\n",
    "df_stations = pd.DataFrame([item[\"fields\"] for item in train_stations])[list_colums]"
   ]
  },
  {
   "cell_type": "code",
   "execution_count": 27,
   "metadata": {},
   "outputs": [
    {
     "data": {
      "text/html": [
       "<div>\n",
       "<style scoped>\n",
       "    .dataframe tbody tr th:only-of-type {\n",
       "        vertical-align: middle;\n",
       "    }\n",
       "\n",
       "    .dataframe tbody tr th {\n",
       "        vertical-align: top;\n",
       "    }\n",
       "\n",
       "    .dataframe thead th {\n",
       "        text-align: right;\n",
       "    }\n",
       "</style>\n",
       "<table border=\"1\" class=\"dataframe\">\n",
       "  <thead>\n",
       "    <tr style=\"text-align: right;\">\n",
       "      <th></th>\n",
       "      <th>uic_code</th>\n",
       "      <th>alias_libelle_noncontraint</th>\n",
       "      <th>latitude_entreeprincipale_wgs84</th>\n",
       "      <th>longitude_entreeprincipale_wgs84</th>\n",
       "      <th>commune_code</th>\n",
       "      <th>commune_libellemin</th>\n",
       "      <th>departement_numero</th>\n",
       "      <th>departement_libellemin</th>\n",
       "      <th>adresse_cp</th>\n",
       "      <th>gare_nbpltf</th>\n",
       "      <th>segmentdrg_libelle</th>\n",
       "    </tr>\n",
       "  </thead>\n",
       "  <tbody>\n",
       "    <tr>\n",
       "      <th>0</th>\n",
       "      <td>0087988709</td>\n",
       "      <td>Remise à Jorelle</td>\n",
       "      <td>48.893170</td>\n",
       "      <td>2.487751</td>\n",
       "      <td>010</td>\n",
       "      <td>Bondy</td>\n",
       "      <td>93</td>\n",
       "      <td>Seine-Saint-Denis</td>\n",
       "      <td>93140</td>\n",
       "      <td>1</td>\n",
       "      <td>b</td>\n",
       "    </tr>\n",
       "    <tr>\n",
       "      <th>1</th>\n",
       "      <td>0087784892</td>\n",
       "      <td>Bena Fanes</td>\n",
       "      <td>42.4580782</td>\n",
       "      <td>1.9167264</td>\n",
       "      <td>066</td>\n",
       "      <td>Enveitg</td>\n",
       "      <td>66</td>\n",
       "      <td>Pyrénées-Orientales</td>\n",
       "      <td>66760</td>\n",
       "      <td>1</td>\n",
       "      <td>c</td>\n",
       "    </tr>\n",
       "    <tr>\n",
       "      <th>2</th>\n",
       "      <td>0087784769</td>\n",
       "      <td>Fontpédrouse</td>\n",
       "      <td>42.5138062</td>\n",
       "      <td>2.1886585</td>\n",
       "      <td>080</td>\n",
       "      <td>Fontpédrouse</td>\n",
       "      <td>66</td>\n",
       "      <td>Pyrénées-Orientales</td>\n",
       "      <td>66360</td>\n",
       "      <td>1</td>\n",
       "      <td>c</td>\n",
       "    </tr>\n",
       "    <tr>\n",
       "      <th>3</th>\n",
       "      <td>0087784736</td>\n",
       "      <td>Nyer</td>\n",
       "      <td>42.5416979</td>\n",
       "      <td>2.2630177</td>\n",
       "      <td>123</td>\n",
       "      <td>Nyer</td>\n",
       "      <td>66</td>\n",
       "      <td>Pyrénées-Orientales</td>\n",
       "      <td>66360</td>\n",
       "      <td>1</td>\n",
       "      <td>c</td>\n",
       "    </tr>\n",
       "    <tr>\n",
       "      <th>4</th>\n",
       "      <td>0087784686</td>\n",
       "      <td>Villefranche - Vernet-les-Bains</td>\n",
       "      <td>42.591998</td>\n",
       "      <td>2.370396</td>\n",
       "      <td>223</td>\n",
       "      <td>Villefranche-de-Conflent</td>\n",
       "      <td>66</td>\n",
       "      <td>Pyrénées-Orientales</td>\n",
       "      <td>66820</td>\n",
       "      <td>1</td>\n",
       "      <td>b</td>\n",
       "    </tr>\n",
       "  </tbody>\n",
       "</table>\n",
       "</div>"
      ],
      "text/plain": [
       "     uic_code       alias_libelle_noncontraint  \\\n",
       "0  0087988709                 Remise à Jorelle   \n",
       "1  0087784892                       Bena Fanes   \n",
       "2  0087784769                     Fontpédrouse   \n",
       "3  0087784736                             Nyer   \n",
       "4  0087784686  Villefranche - Vernet-les-Bains   \n",
       "\n",
       "  latitude_entreeprincipale_wgs84 longitude_entreeprincipale_wgs84  \\\n",
       "0                       48.893170                         2.487751   \n",
       "1                      42.4580782                        1.9167264   \n",
       "2                      42.5138062                        2.1886585   \n",
       "3                      42.5416979                        2.2630177   \n",
       "4                       42.591998                         2.370396   \n",
       "\n",
       "  commune_code        commune_libellemin departement_numero  \\\n",
       "0          010                     Bondy                 93   \n",
       "1          066                   Enveitg                 66   \n",
       "2          080              Fontpédrouse                 66   \n",
       "3          123                      Nyer                 66   \n",
       "4          223  Villefranche-de-Conflent                 66   \n",
       "\n",
       "  departement_libellemin adresse_cp  gare_nbpltf segmentdrg_libelle  \n",
       "0      Seine-Saint-Denis      93140            1                  b  \n",
       "1    Pyrénées-Orientales      66760            1                  c  \n",
       "2    Pyrénées-Orientales      66360            1                  c  \n",
       "3    Pyrénées-Orientales      66360            1                  c  \n",
       "4    Pyrénées-Orientales      66820            1                  b  "
      ]
     },
     "execution_count": 27,
     "metadata": {},
     "output_type": "execute_result"
    }
   ],
   "source": [
    "df_stations.head()"
   ]
  },
  {
   "cell_type": "markdown",
   "metadata": {},
   "source": [
    "Number of train stations"
   ]
  },
  {
   "cell_type": "code",
   "execution_count": 5,
   "metadata": {},
   "outputs": [
    {
     "name": "stdout",
     "output_type": "stream",
     "text": [
      "We have : 2867 train stations in total\n"
     ]
    }
   ],
   "source": [
    "print(f\"We have : {len(df_stations)} train stations in total\")"
   ]
  },
  {
   "cell_type": "markdown",
   "metadata": {},
   "source": [
    "Check for missing values"
   ]
  },
  {
   "cell_type": "code",
   "execution_count": 6,
   "metadata": {},
   "outputs": [
    {
     "data": {
      "text/plain": [
       "uic_code                            0\n",
       "alias_libelle_noncontraint          0\n",
       "latitude_entreeprincipale_wgs84     4\n",
       "longitude_entreeprincipale_wgs84    4\n",
       "commune_code                        0\n",
       "commune_libellemin                  0\n",
       "departement_numero                  0\n",
       "departement_libellemin              0\n",
       "adresse_cp                          0\n",
       "gare_nbpltf                         0\n",
       "segmentdrg_libelle                  0\n",
       "dtype: int64"
      ]
     },
     "execution_count": 6,
     "metadata": {},
     "output_type": "execute_result"
    }
   ],
   "source": [
    "df_stations.isnull().sum()"
   ]
  },
  {
   "cell_type": "markdown",
   "metadata": {},
   "source": [
    "Perfect duplicates"
   ]
  },
  {
   "cell_type": "code",
   "execution_count": 7,
   "metadata": {},
   "outputs": [
    {
     "data": {
      "text/plain": [
       "0"
      ]
     },
     "execution_count": 7,
     "metadata": {},
     "output_type": "execute_result"
    }
   ],
   "source": [
    "df_stations.duplicated().sum()"
   ]
  },
  {
   "cell_type": "markdown",
   "metadata": {},
   "source": [
    "Duplicates based on code station"
   ]
  },
  {
   "cell_type": "code",
   "execution_count": 8,
   "metadata": {},
   "outputs": [
    {
     "data": {
      "text/plain": [
       "0"
      ]
     },
     "execution_count": 8,
     "metadata": {},
     "output_type": "execute_result"
    }
   ],
   "source": [
    "df_stations.duplicated([\"uic_code\"]).sum()"
   ]
  },
  {
   "cell_type": "markdown",
   "metadata": {},
   "source": [
    "### 2. Lost properties declaration"
   ]
  },
  {
   "cell_type": "code",
   "execution_count": 81,
   "metadata": {
    "scrolled": true
   },
   "outputs": [
    {
     "name": "stdout",
     "output_type": "stream",
     "text": [
      "CPU times: user 13.8 s, sys: 112 ms, total: 13.9 s\n",
      "Wall time: 14.8 s\n"
     ]
    }
   ],
   "source": [
    "%%time\n",
    "# load data\n",
    "df_lost = pd.read_csv(\"input_data/objets-trouves-gares.csv\", sep=\";\", dtype={\"Code UIC\": str})\n",
    "# convert date string to datetime\n",
    "_map_date = {dt: datetime.strptime(dt[:19], \"%Y-%m-%dT%H:%M:%S\") for dt in df_lost.Date.unique() if pd.notnull(dt)}\n",
    "df_lost[\"Date\"] = df_lost.Date.map(_map_date)"
   ]
  },
  {
   "cell_type": "code",
   "execution_count": 82,
   "metadata": {
    "scrolled": true
   },
   "outputs": [
    {
     "data": {
      "text/html": [
       "<div>\n",
       "<style scoped>\n",
       "    .dataframe tbody tr th:only-of-type {\n",
       "        vertical-align: middle;\n",
       "    }\n",
       "\n",
       "    .dataframe tbody tr th {\n",
       "        vertical-align: top;\n",
       "    }\n",
       "\n",
       "    .dataframe thead th {\n",
       "        text-align: right;\n",
       "    }\n",
       "</style>\n",
       "<table border=\"1\" class=\"dataframe\">\n",
       "  <thead>\n",
       "    <tr style=\"text-align: right;\">\n",
       "      <th></th>\n",
       "      <th>Date</th>\n",
       "      <th>Gare</th>\n",
       "      <th>Code UIC</th>\n",
       "      <th>Nature d'objets</th>\n",
       "      <th>Type d'objets</th>\n",
       "      <th>Type d'enregistrement</th>\n",
       "    </tr>\n",
       "  </thead>\n",
       "  <tbody>\n",
       "    <tr>\n",
       "      <th>0</th>\n",
       "      <td>2019-02-13 23:08:31</td>\n",
       "      <td>NaN</td>\n",
       "      <td>NaN</td>\n",
       "      <td>Autres divers</td>\n",
       "      <td>Divers</td>\n",
       "      <td>Déclaration de Perte</td>\n",
       "    </tr>\n",
       "    <tr>\n",
       "      <th>1</th>\n",
       "      <td>2019-02-13 23:22:13</td>\n",
       "      <td>NaN</td>\n",
       "      <td>NaN</td>\n",
       "      <td>Livre scolaire</td>\n",
       "      <td>Livres, articles de papéterie</td>\n",
       "      <td>Déclaration de Perte</td>\n",
       "    </tr>\n",
       "    <tr>\n",
       "      <th>2</th>\n",
       "      <td>2019-02-13 23:24:16</td>\n",
       "      <td>NaN</td>\n",
       "      <td>NaN</td>\n",
       "      <td>Livre de poche</td>\n",
       "      <td>Livres, articles de papéterie</td>\n",
       "      <td>Déclaration de Perte</td>\n",
       "    </tr>\n",
       "    <tr>\n",
       "      <th>3</th>\n",
       "      <td>2019-02-14 07:07:30</td>\n",
       "      <td>NaN</td>\n",
       "      <td>NaN</td>\n",
       "      <td>Sac à dos</td>\n",
       "      <td>Bagagerie: sacs, valises, cartables</td>\n",
       "      <td>Déclaration de Perte</td>\n",
       "    </tr>\n",
       "    <tr>\n",
       "      <th>4</th>\n",
       "      <td>2019-02-14 07:54:09</td>\n",
       "      <td>NaN</td>\n",
       "      <td>NaN</td>\n",
       "      <td>Ordinateur, ordinateur portable, notebook</td>\n",
       "      <td>Appareils électroniques, informatiques, appare...</td>\n",
       "      <td>Déclaration de Perte</td>\n",
       "    </tr>\n",
       "  </tbody>\n",
       "</table>\n",
       "</div>"
      ],
      "text/plain": [
       "                 Date Gare Code UIC  \\\n",
       "0 2019-02-13 23:08:31  NaN      NaN   \n",
       "1 2019-02-13 23:22:13  NaN      NaN   \n",
       "2 2019-02-13 23:24:16  NaN      NaN   \n",
       "3 2019-02-14 07:07:30  NaN      NaN   \n",
       "4 2019-02-14 07:54:09  NaN      NaN   \n",
       "\n",
       "                             Nature d'objets  \\\n",
       "0                              Autres divers   \n",
       "1                             Livre scolaire   \n",
       "2                             Livre de poche   \n",
       "3                                  Sac à dos   \n",
       "4  Ordinateur, ordinateur portable, notebook   \n",
       "\n",
       "                                       Type d'objets Type d'enregistrement  \n",
       "0                                             Divers  Déclaration de Perte  \n",
       "1                      Livres, articles de papéterie  Déclaration de Perte  \n",
       "2                      Livres, articles de papéterie  Déclaration de Perte  \n",
       "3                Bagagerie: sacs, valises, cartables  Déclaration de Perte  \n",
       "4  Appareils électroniques, informatiques, appare...  Déclaration de Perte  "
      ]
     },
     "execution_count": 82,
     "metadata": {},
     "output_type": "execute_result"
    }
   ],
   "source": [
    "df_lost.head()"
   ]
  },
  {
   "cell_type": "code",
   "execution_count": 83,
   "metadata": {},
   "outputs": [
    {
     "name": "stdout",
     "output_type": "stream",
     "text": [
      "We have : 1,148,442 loss declarations in total\n"
     ]
    }
   ],
   "source": [
    "print(f\"We have : {len(df_lost):,} loss declarations in total\")"
   ]
  },
  {
   "cell_type": "code",
   "execution_count": 84,
   "metadata": {},
   "outputs": [
    {
     "name": "stdout",
     "output_type": "stream",
     "text": [
      "The earliest record in the dataset is on 2013-05-24, and the latest record on 2020-12-23\n"
     ]
    }
   ],
   "source": [
    "print(f\"The earliest record in the dataset is on {df_lost.Date.min().date()}, and the latest record on {df_lost.Date.max().date()}\")"
   ]
  },
  {
   "cell_type": "markdown",
   "metadata": {},
   "source": [
    "Perfect duplicates"
   ]
  },
  {
   "cell_type": "code",
   "execution_count": 85,
   "metadata": {},
   "outputs": [
    {
     "data": {
      "text/plain": [
       "0"
      ]
     },
     "execution_count": 85,
     "metadata": {},
     "output_type": "execute_result"
    }
   ],
   "source": [
    "df_lost.duplicated().sum()"
   ]
  },
  {
   "cell_type": "markdown",
   "metadata": {},
   "source": [
    "Let's see if we can uniquely identify a loss declaration using `Date`, `station code`, `object nature` and `object type` :"
   ]
  },
  {
   "cell_type": "code",
   "execution_count": 86,
   "metadata": {},
   "outputs": [
    {
     "data": {
      "text/plain": [
       "0"
      ]
     },
     "execution_count": 86,
     "metadata": {},
     "output_type": "execute_result"
    }
   ],
   "source": [
    "df_lost.duplicated([\"Date\", \"Code UIC\", \"Nature d'objets\"]).sum()"
   ]
  },
  {
   "cell_type": "markdown",
   "metadata": {},
   "source": [
    "> Even though we don't have dupicates using these columns in the current dataset, there is no guarantee that in the future two different declarations can't be done at the same for the same object, in the same station --> we need to use another identifier like auto-increment integer when building data model"
   ]
  },
  {
   "cell_type": "markdown",
   "metadata": {},
   "source": [
    "Check for missng values"
   ]
  },
  {
   "cell_type": "code",
   "execution_count": 87,
   "metadata": {},
   "outputs": [
    {
     "data": {
      "text/plain": [
       "Date                          0\n",
       "Gare                     786193\n",
       "Code UIC                 786193\n",
       "Nature d'objets               0\n",
       "Type d'objets                 0\n",
       "Type d'enregistrement         0\n",
       "dtype: int64"
      ]
     },
     "execution_count": 87,
     "metadata": {},
     "output_type": "execute_result"
    }
   ],
   "source": [
    "df_lost.isnull().sum() "
   ]
  },
  {
   "cell_type": "markdown",
   "metadata": {},
   "source": [
    "> Seems there are a lot of missing train stations. A potential explanation is that a property that is lost in a train during a trip will not be linked to any station."
   ]
  },
  {
   "cell_type": "code",
   "execution_count": null,
   "metadata": {},
   "outputs": [],
   "source": []
  },
  {
   "cell_type": "markdown",
   "metadata": {},
   "source": [
    "### 3. Found properties"
   ]
  },
  {
   "cell_type": "code",
   "execution_count": 88,
   "metadata": {
    "scrolled": true
   },
   "outputs": [
    {
     "name": "stdout",
     "output_type": "stream",
     "text": [
      "CPU times: user 12.1 s, sys: 84 ms, total: 12.2 s\n",
      "Wall time: 12.2 s\n"
     ]
    }
   ],
   "source": [
    "%%time\n",
    "# load data\n",
    "df_found = pd.read_csv(\"input_data/objets-trouves-restitution.csv\", sep=\";\", dtype={\"Code UIC\": str})\n",
    "# convert date string to datetime\n",
    "_map_date = {dt: datetime.strptime(dt[:19], \"%Y-%m-%dT%H:%M:%S\") for dt in set(df_found.Date).union(set(df_found[\"Date et heure de restitution\"])) if pd.notnull(dt)}\n",
    "df_found[\"Date\"] = df_found.Date.map(_map_date)\n",
    "df_found[\"Date et heure de restitution\"] = df_found[\"Date et heure de restitution\"].map(_map_date)"
   ]
  },
  {
   "cell_type": "code",
   "execution_count": 89,
   "metadata": {
    "scrolled": true
   },
   "outputs": [
    {
     "data": {
      "text/html": [
       "<div>\n",
       "<style scoped>\n",
       "    .dataframe tbody tr th:only-of-type {\n",
       "        vertical-align: middle;\n",
       "    }\n",
       "\n",
       "    .dataframe tbody tr th {\n",
       "        vertical-align: top;\n",
       "    }\n",
       "\n",
       "    .dataframe thead th {\n",
       "        text-align: right;\n",
       "    }\n",
       "</style>\n",
       "<table border=\"1\" class=\"dataframe\">\n",
       "  <thead>\n",
       "    <tr style=\"text-align: right;\">\n",
       "      <th></th>\n",
       "      <th>Date</th>\n",
       "      <th>Date et heure de restitution</th>\n",
       "      <th>Gare</th>\n",
       "      <th>Code UIC</th>\n",
       "      <th>Nature d'objets</th>\n",
       "      <th>Type d'objets</th>\n",
       "      <th>Type d'enregistrement</th>\n",
       "    </tr>\n",
       "  </thead>\n",
       "  <tbody>\n",
       "    <tr>\n",
       "      <th>0</th>\n",
       "      <td>2018-01-23 14:33:43</td>\n",
       "      <td>NaT</td>\n",
       "      <td>Bourges</td>\n",
       "      <td>0087576207</td>\n",
       "      <td>Autres divers (préciser)</td>\n",
       "      <td>Divers</td>\n",
       "      <td>Objet trouvé</td>\n",
       "    </tr>\n",
       "    <tr>\n",
       "      <th>1</th>\n",
       "      <td>2014-03-10 09:07:15</td>\n",
       "      <td>NaT</td>\n",
       "      <td>Toulouse Matabiau</td>\n",
       "      <td>0087611004</td>\n",
       "      <td>Sac de voyage, sac de sport, sac à bandoulière</td>\n",
       "      <td>Bagagerie: sacs, valises, cartables</td>\n",
       "      <td>Objet trouvé</td>\n",
       "    </tr>\n",
       "    <tr>\n",
       "      <th>2</th>\n",
       "      <td>2014-02-06 08:45:32</td>\n",
       "      <td>NaT</td>\n",
       "      <td>Toulouse Matabiau</td>\n",
       "      <td>0087611004</td>\n",
       "      <td>Sac à dos</td>\n",
       "      <td>Bagagerie: sacs, valises, cartables</td>\n",
       "      <td>Objet trouvé</td>\n",
       "    </tr>\n",
       "    <tr>\n",
       "      <th>3</th>\n",
       "      <td>2014-03-10 09:14:38</td>\n",
       "      <td>NaT</td>\n",
       "      <td>Paris Est</td>\n",
       "      <td>0087113001</td>\n",
       "      <td>Manteau, veste, blazer, parka, blouson, cape</td>\n",
       "      <td>Vêtements, chaussures</td>\n",
       "      <td>Objet trouvé</td>\n",
       "    </tr>\n",
       "    <tr>\n",
       "      <th>4</th>\n",
       "      <td>2014-02-06 09:01:24</td>\n",
       "      <td>2014-02-07 20:55:39</td>\n",
       "      <td>Paris Est</td>\n",
       "      <td>0087113001</td>\n",
       "      <td>Valise, sac sur roulettes</td>\n",
       "      <td>Bagagerie: sacs, valises, cartables</td>\n",
       "      <td>Objet trouvé</td>\n",
       "    </tr>\n",
       "  </tbody>\n",
       "</table>\n",
       "</div>"
      ],
      "text/plain": [
       "                 Date Date et heure de restitution               Gare  \\\n",
       "0 2018-01-23 14:33:43                          NaT            Bourges   \n",
       "1 2014-03-10 09:07:15                          NaT  Toulouse Matabiau   \n",
       "2 2014-02-06 08:45:32                          NaT  Toulouse Matabiau   \n",
       "3 2014-03-10 09:14:38                          NaT          Paris Est   \n",
       "4 2014-02-06 09:01:24          2014-02-07 20:55:39          Paris Est   \n",
       "\n",
       "     Code UIC                                 Nature d'objets  \\\n",
       "0  0087576207                        Autres divers (préciser)   \n",
       "1  0087611004  Sac de voyage, sac de sport, sac à bandoulière   \n",
       "2  0087611004                                       Sac à dos   \n",
       "3  0087113001    Manteau, veste, blazer, parka, blouson, cape   \n",
       "4  0087113001                       Valise, sac sur roulettes   \n",
       "\n",
       "                         Type d'objets Type d'enregistrement  \n",
       "0                               Divers          Objet trouvé  \n",
       "1  Bagagerie: sacs, valises, cartables          Objet trouvé  \n",
       "2  Bagagerie: sacs, valises, cartables          Objet trouvé  \n",
       "3                Vêtements, chaussures          Objet trouvé  \n",
       "4  Bagagerie: sacs, valises, cartables          Objet trouvé  "
      ]
     },
     "execution_count": 89,
     "metadata": {},
     "output_type": "execute_result"
    }
   ],
   "source": [
    "df_found.head()"
   ]
  },
  {
   "cell_type": "code",
   "execution_count": 90,
   "metadata": {},
   "outputs": [
    {
     "name": "stdout",
     "output_type": "stream",
     "text": [
      "We have : 705,747 declared and found properties in total\n"
     ]
    }
   ],
   "source": [
    "print(f\"We have : {len(df_found):,} declared and found properties in total\")"
   ]
  },
  {
   "cell_type": "code",
   "execution_count": 91,
   "metadata": {},
   "outputs": [
    {
     "name": "stdout",
     "output_type": "stream",
     "text": [
      "The earliest record in the dataset is on 2013-05-24, and the latest record on 2020-12-23\n"
     ]
    }
   ],
   "source": [
    "print(f\"The earliest record in the dataset is on {df_found.Date.min().date()}, and the latest record on {df_found.Date.max().date()}\")"
   ]
  },
  {
   "cell_type": "code",
   "execution_count": 92,
   "metadata": {},
   "outputs": [
    {
     "name": "stdout",
     "output_type": "stream",
     "text": [
      "The earliest lost property recovered in the dataset is on 2013-05-24, and the latest on 2020-12-23\n"
     ]
    }
   ],
   "source": [
    "print(f\"The earliest lost property recovered in the dataset is on {df_found['Date et heure de restitution'].min().date()}, and the latest on {df_found['Date et heure de restitution'].max().date()}\")"
   ]
  },
  {
   "cell_type": "markdown",
   "metadata": {},
   "source": [
    "Perfect duplicates"
   ]
  },
  {
   "cell_type": "code",
   "execution_count": 93,
   "metadata": {},
   "outputs": [
    {
     "data": {
      "text/plain": [
       "0"
      ]
     },
     "execution_count": 93,
     "metadata": {},
     "output_type": "execute_result"
    }
   ],
   "source": [
    "df_found.duplicated().sum()"
   ]
  },
  {
   "cell_type": "markdown",
   "metadata": {},
   "source": [
    "Let's see if we can uniquely identify a loss declaration using `Date`, `station code`, `object nature` and `object type` :"
   ]
  },
  {
   "cell_type": "code",
   "execution_count": 94,
   "metadata": {},
   "outputs": [
    {
     "data": {
      "text/plain": [
       "58253"
      ]
     },
     "execution_count": 94,
     "metadata": {},
     "output_type": "execute_result"
    }
   ],
   "source": [
    "df_found.duplicated([\"Date\", \"Code UIC\", \"Nature d'objets\", \"Type d'objets\"]).sum()"
   ]
  },
  {
   "cell_type": "markdown",
   "metadata": {},
   "source": [
    "> Using these columns doesnt' allow us to uniquely identify a record in the dataset --> we'll need to create our own id, such as an auto-increment integer"
   ]
  },
  {
   "cell_type": "markdown",
   "metadata": {},
   "source": [
    "Check for missng values"
   ]
  },
  {
   "cell_type": "code",
   "execution_count": 95,
   "metadata": {},
   "outputs": [
    {
     "data": {
      "text/plain": [
       "Date                                 0\n",
       "Date et heure de restitution    493471\n",
       "Gare                               299\n",
       "Code UIC                           299\n",
       "Nature d'objets                      0\n",
       "Type d'objets                        0\n",
       "Type d'enregistrement                0\n",
       "dtype: int64"
      ]
     },
     "execution_count": 95,
     "metadata": {},
     "output_type": "execute_result"
    }
   ],
   "source": [
    "df_found.isnull().sum() "
   ]
  },
  {
   "cell_type": "markdown",
   "metadata": {},
   "source": [
    "> Seems there are some missing train stations. A potential explanation is that a property that is lost in a train during a trip will not be linked to any station.\n",
    "\n",
    "> There are also a lot of missing recovery dates, corresponding most likely to properties that haven't been recovered yet"
   ]
  },
  {
   "cell_type": "code",
   "execution_count": null,
   "metadata": {},
   "outputs": [],
   "source": []
  },
  {
   "cell_type": "code",
   "execution_count": null,
   "metadata": {},
   "outputs": [],
   "source": []
  },
  {
   "cell_type": "code",
   "execution_count": null,
   "metadata": {},
   "outputs": [],
   "source": []
  },
  {
   "cell_type": "markdown",
   "metadata": {},
   "source": [
    "### 3. Daily temperatures"
   ]
  },
  {
   "cell_type": "code",
   "execution_count": 59,
   "metadata": {
    "scrolled": true
   },
   "outputs": [
    {
     "name": "stdout",
     "output_type": "stream",
     "text": [
      "CPU times: user 84.9 ms, sys: 3.87 ms, total: 88.7 ms\n",
      "Wall time: 208 ms\n"
     ]
    }
   ],
   "source": [
    "%%time\n",
    "# load data\n",
    "df_temperature = pd.read_csv(\"input_data/temperature-quotidienne-departementale.csv\", sep=\";\")\n",
    "# convert date string to datetime\n",
    "_map_date = {dt: datetime.strptime(dt, \"%Y-%m-%d\") for dt in df_temperature.Date.unique()}\n",
    "df_temperature[\"Date\"] = df_temperature.Date.map(_map_date)"
   ]
  },
  {
   "cell_type": "code",
   "execution_count": 60,
   "metadata": {
    "scrolled": true
   },
   "outputs": [
    {
     "data": {
      "text/html": [
       "<div>\n",
       "<style scoped>\n",
       "    .dataframe tbody tr th:only-of-type {\n",
       "        vertical-align: middle;\n",
       "    }\n",
       "\n",
       "    .dataframe tbody tr th {\n",
       "        vertical-align: top;\n",
       "    }\n",
       "\n",
       "    .dataframe thead th {\n",
       "        text-align: right;\n",
       "    }\n",
       "</style>\n",
       "<table border=\"1\" class=\"dataframe\">\n",
       "  <thead>\n",
       "    <tr style=\"text-align: right;\">\n",
       "      <th></th>\n",
       "      <th>Date</th>\n",
       "      <th>Code INSEE département</th>\n",
       "      <th>Département</th>\n",
       "      <th>TMin (°C)</th>\n",
       "      <th>TMax (°C)</th>\n",
       "      <th>TMoy (°C)</th>\n",
       "    </tr>\n",
       "  </thead>\n",
       "  <tbody>\n",
       "    <tr>\n",
       "      <th>0</th>\n",
       "      <td>2019-12-31</td>\n",
       "      <td>87</td>\n",
       "      <td>Haute-Vienne</td>\n",
       "      <td>2.30</td>\n",
       "      <td>10.00</td>\n",
       "      <td>6.15</td>\n",
       "    </tr>\n",
       "    <tr>\n",
       "      <th>1</th>\n",
       "      <td>2019-12-31</td>\n",
       "      <td>19</td>\n",
       "      <td>Corrèze</td>\n",
       "      <td>-2.70</td>\n",
       "      <td>10.90</td>\n",
       "      <td>4.10</td>\n",
       "    </tr>\n",
       "    <tr>\n",
       "      <th>2</th>\n",
       "      <td>2019-12-31</td>\n",
       "      <td>83</td>\n",
       "      <td>Var</td>\n",
       "      <td>4.77</td>\n",
       "      <td>14.08</td>\n",
       "      <td>9.43</td>\n",
       "    </tr>\n",
       "    <tr>\n",
       "      <th>3</th>\n",
       "      <td>2019-12-31</td>\n",
       "      <td>27</td>\n",
       "      <td>Eure</td>\n",
       "      <td>-3.10</td>\n",
       "      <td>5.50</td>\n",
       "      <td>1.20</td>\n",
       "    </tr>\n",
       "    <tr>\n",
       "      <th>4</th>\n",
       "      <td>2019-12-31</td>\n",
       "      <td>23</td>\n",
       "      <td>Creuse</td>\n",
       "      <td>-4.50</td>\n",
       "      <td>13.20</td>\n",
       "      <td>4.35</td>\n",
       "    </tr>\n",
       "  </tbody>\n",
       "</table>\n",
       "</div>"
      ],
      "text/plain": [
       "        Date Code INSEE département   Département  TMin (°C)  TMax (°C)  \\\n",
       "0 2019-12-31                     87  Haute-Vienne       2.30      10.00   \n",
       "1 2019-12-31                     19       Corrèze      -2.70      10.90   \n",
       "2 2019-12-31                     83           Var       4.77      14.08   \n",
       "3 2019-12-31                     27          Eure      -3.10       5.50   \n",
       "4 2019-12-31                     23        Creuse      -4.50      13.20   \n",
       "\n",
       "   TMoy (°C)  \n",
       "0       6.15  \n",
       "1       4.10  \n",
       "2       9.43  \n",
       "3       1.20  \n",
       "4       4.35  "
      ]
     },
     "execution_count": 60,
     "metadata": {},
     "output_type": "execute_result"
    }
   ],
   "source": [
    "df_temperature.head()"
   ]
  },
  {
   "cell_type": "code",
   "execution_count": 62,
   "metadata": {},
   "outputs": [
    {
     "data": {
      "text/plain": [
       "Timestamp('2019-12-31 00:00:00')"
      ]
     },
     "execution_count": 62,
     "metadata": {},
     "output_type": "execute_result"
    }
   ],
   "source": [
    "df_temperature.Date[0]"
   ]
  },
  {
   "cell_type": "code",
   "execution_count": 61,
   "metadata": {},
   "outputs": [
    {
     "name": "stdout",
     "output_type": "stream",
     "text": [
      "We have : 102,240 temperature records in total\n"
     ]
    }
   ],
   "source": [
    "print(f\"We have : {len(df_temperature):,} temperature records in total\")"
   ]
  },
  {
   "cell_type": "code",
   "execution_count": 64,
   "metadata": {},
   "outputs": [
    {
     "name": "stdout",
     "output_type": "stream",
     "text": [
      "The earliest record in the dataset is on 2018-01-01, and the latest record on 2020-11-30\n"
     ]
    }
   ],
   "source": [
    "print(f\"The earliest record in the dataset is on {df_temperature.Date.min().date()}, and the latest record on {df_temperature.Date.max().date()}\")"
   ]
  },
  {
   "cell_type": "markdown",
   "metadata": {},
   "source": [
    "Perfect duplicates"
   ]
  },
  {
   "cell_type": "code",
   "execution_count": 65,
   "metadata": {},
   "outputs": [
    {
     "data": {
      "text/plain": [
       "0"
      ]
     },
     "execution_count": 65,
     "metadata": {},
     "output_type": "execute_result"
    }
   ],
   "source": [
    "df_temperature.duplicated().sum()"
   ]
  },
  {
   "cell_type": "markdown",
   "metadata": {},
   "source": [
    "Let's see if we can uniquely identify a loss declaration using `Date`, `county code`"
   ]
  },
  {
   "cell_type": "code",
   "execution_count": 66,
   "metadata": {},
   "outputs": [
    {
     "data": {
      "text/plain": [
       "0"
      ]
     },
     "execution_count": 66,
     "metadata": {},
     "output_type": "execute_result"
    }
   ],
   "source": [
    "df_temperature.duplicated([\"Date\", \"Code INSEE département\"]).sum()"
   ]
  },
  {
   "cell_type": "markdown",
   "metadata": {},
   "source": [
    "> Using these columns allows us to uniquely identify a record in the temperature dataset"
   ]
  },
  {
   "cell_type": "markdown",
   "metadata": {},
   "source": [
    "Check for missng values"
   ]
  },
  {
   "cell_type": "code",
   "execution_count": 67,
   "metadata": {},
   "outputs": [
    {
     "data": {
      "text/plain": [
       "Date                      0\n",
       "Code INSEE département    0\n",
       "Département               0\n",
       "TMin (°C)                 0\n",
       "TMax (°C)                 0\n",
       "TMoy (°C)                 0\n",
       "dtype: int64"
      ]
     },
     "execution_count": 67,
     "metadata": {},
     "output_type": "execute_result"
    }
   ],
   "source": [
    "df_temperature.isnull().sum() "
   ]
  },
  {
   "cell_type": "markdown",
   "metadata": {},
   "source": [
    "> No missing Values in temperatures dataset"
   ]
  },
  {
   "cell_type": "code",
   "execution_count": null,
   "metadata": {},
   "outputs": [],
   "source": []
  },
  {
   "cell_type": "markdown",
   "metadata": {},
   "source": [
    "## Data model\n",
    "\n",
    "The ideal situation would be to join the two datasets, `Lost properties declaration dataset` and `Found properties dataset`, so that we can see which object was lost when and where, whether it was found, and if/when it was recovered by its owner. and this will be used as our fact table.<br>Unfortunately there's currently no id that allows us to identify a record in either dataset. We could've used a collection of columns (`Date`, `station code`, `object nature` and `object type`), but there are duplicates in the `Found properties dataset` using these fields.\n",
    "\n",
    "Finally we decided to create two fact tables in our datalake and two dimension tables.\n",
    "\n",
    "The two dimension tables are :\n",
    "* time : contains date and time related information. The column names of this table are self-explanatory (see the star schema below)\n",
    "* stations : contains information related to train stations. The column names of this table are self-explanatory (see the star schema below). We'll add a default station to take into account declarations that are not related to any station. This default station will have `NOT_A_STATION` value for all non-numeric columns and `-999` for numeric columns. The `station_category` column encodes the type of station using three levels :\n",
    "    * \"a\" : more than 250,000 yearly passengers\n",
    "    * \"b\" : more than 100,000 yearly passengers\n",
    "    * \"c\" : other stations\n",
    "\n",
    "The two fact tables are :\n",
    "* declared_loss : contains information on all loss declaration made by customers through website, app, or in-person. The columns are :\n",
    "    * declaration_id : auto-incremented integer to identify each customer declaration\n",
    "    * date_and_time : date and time of the declaration\n",
    "    * station_id : station identification code\n",
    "    * property_type : a coarse categorisation of loss properties as explained earlier in the introduction. e.g. `Vêtements, chaussures` (clothes, shoes), `Appareils électroniques, informatiques, appareils photo` (electronic devices), ...\n",
    "    * property_nature : a more fine-grained categorisation of loss properties as explained earlier in the introduction. e.g. `Manteau, veste, blazer, parka, blouson, cape` (Coat, jacket), `Téléphone portable` (smartphone), ...\n",
    "    * min_temperature : the minimum temperature recorded this day in the county where station is located\n",
    "    * max_temperature : the maximum temperature recorded this day in the county where station is located\n",
    "    * avg_temperature : the average temperature recorded this day in the county where station is located\n",
    "* declared_and_found_properties : contains information on all lost and found properties declared by customers through app. The columns are :\n",
    "    * found_id : auto-incremented integer to identify each found property\n",
    "    * date_and_time : date and time of the declaration\n",
    "    * station_id : station identification code\n",
    "    * property_type : same as in the previous table\n",
    "    * property_nature : same as in previous table\n",
    "    * recovery_date : for properties that have been returned to their owners, this is the recovery date and time\n",
    "    * delay_before_recovery : for properties that have been returned to their owners, this is the delay in hours between the loss declaration and recovery date\n",
    "    * min_temperature : the minimum temperature recorded this day in the county where station is located\n",
    "    * max_temperature : the maximum temperature recorded this day in the county where station is located\n",
    "    * avg_temperature : the average temperature recorded this day in the county where station is located\n",
    "    \n",
    "![model](assests/data_model.png)"
   ]
  },
  {
   "cell_type": "markdown",
   "metadata": {},
   "source": [
    "### Explain data model objective !!!!!!!!!"
   ]
  },
  {
   "cell_type": "code",
   "execution_count": null,
   "metadata": {},
   "outputs": [],
   "source": []
  },
  {
   "cell_type": "code",
   "execution_count": null,
   "metadata": {},
   "outputs": [],
   "source": []
  },
  {
   "cell_type": "code",
   "execution_count": null,
   "metadata": {},
   "outputs": [],
   "source": []
  },
  {
   "cell_type": "code",
   "execution_count": 53,
   "metadata": {},
   "outputs": [],
   "source": [
    "import pandas as pd\n",
    "import numpy as np\n",
    "import configparser\n",
    "from datetime import datetime\n",
    "import time\n",
    "from dateutil.tz import tzoffset\n",
    "import os\n",
    "import sys\n",
    "import json\n",
    "import pprint\n",
    "from functools import reduce\n",
    "\n",
    "pd.set_option(\"display.max_columns\", None)\n",
    "\n",
    "import pyspark\n",
    "from pyspark.sql import SparkSession\n",
    "from pyspark.sql import functions as F\n",
    "from pyspark.sql.types import IntegerType, StringType, FloatType, TimestampType, DateType, StructType\n"
   ]
  },
  {
   "cell_type": "code",
   "execution_count": 2,
   "metadata": {},
   "outputs": [],
   "source": [
    "spark = SparkSession \\\n",
    "        .builder \\\n",
    "        .appName(\"sparkify\") \\\n",
    "        .getOrCreate()\n",
    "#         .config(\"spark.jars.package\", \"JohnSnowLabs:spark-nlp:2.6.5\") \\"
   ]
  },
  {
   "cell_type": "code",
   "execution_count": 9,
   "metadata": {},
   "outputs": [],
   "source": [
    "schema_lost = StructType()\\\n",
    "    .add(\"Date\", TimestampType(), False)\\\n",
    "    .add(\"Gare\", StringType(), True)\\\n",
    "    .add(\"Code UIC\", StringType(), True)\\\n",
    "    .add(\"Nature d'objets\", StringType(), False)\\\n",
    "    .add(\"Type d'objets\", StringType(), False)\\\n",
    "    .add(\"Type d'enregistrement\", StringType(), False)\n",
    "schema_found = StructType()\\\n",
    "    .add(\"Date\", TimestampType(), False)\\\n",
    "    .add(\"Date et heure de restitution\", TimestampType(), True)\\\n",
    "    .add(\"Gare\", StringType(), True)\\\n",
    "    .add(\"Code UIC\", StringType(), True)\\\n",
    "    .add(\"Nature d'objets\", StringType(), False)\\\n",
    "    .add(\"Type d'objets\", StringType(), False)\\\n",
    "    .add(\"Type d'enregistrement\", StringType(), False)\n",
    "\n",
    "columns_mapping = dict(zip(\n",
    "    [\"Date\", \"Date et heure de restitution\", \"Gare\", \"Code UIC\", \"Nature d'objets\", \"Type d'objets\", \"Type d'enregistrement\"],\n",
    "    [\"date_and_time\", \"recovery_date\", \"station\", \"station_id\", \"property_nature\", \"property_type\", \"recording_type\"]\n",
    "))"
   ]
  },
  {
   "cell_type": "code",
   "execution_count": 10,
   "metadata": {},
   "outputs": [],
   "source": [
    "df_lost = spark.read.csv(\"input_data/objets-trouves-gares.csv\", sep=\";\", header=True, schema=schema_lost)\n",
    "df_lost = df_lost\\\n",
    "    .select([F.col(c).alias(columns_mapping.get(c, c)) for c in df_lost.columns])\n",
    "\n",
    "df_found = spark.read.csv(\"input_data/objets-trouves-restitution.csv\", sep=\";\", header=True, schema=schema_found)\n",
    "df_found = df_found\\\n",
    "    .select([F.col(c).alias(columns_mapping.get(c, c)) for c in df_found.columns])"
   ]
  },
  {
   "cell_type": "code",
   "execution_count": 11,
   "metadata": {},
   "outputs": [],
   "source": [
    "list_expr = [\"fields.uic_code as station_id\", \"fields.alias_libelle_noncontraint as station_name\", \"cast(fields.latitude_entreeprincipale_wgs84 as float) as station_latitude\",\n",
    "             \"cast(fields.longitude_entreeprincipale_wgs84 as float) as station_longitude\", \"fields.commune_code as station_city_code\", \"fields.commune_libellemin as station_city_name\",\n",
    "            \"fields.departement_numero as station_county_code\", \"fields.departement_libellemin as station_county_name\", \n",
    "             \"fields.adresse_cp as station_postal_code\", \"cast(fields.gare_nbpltf as int) as station_number_of_platforms\", \"fields.segmentdrg_libelle as station_category\"]\n",
    "df_stations = spark.read.json(\"input_data/referentiel-gares-voyageurs.json\").selectExpr(*list_expr)"
   ]
  },
  {
   "cell_type": "code",
   "execution_count": 12,
   "metadata": {},
   "outputs": [],
   "source": [
    "schema_temp = StructType()\\\n",
    "    .add(\"Date\", DateType(), True)\\\n",
    "    .add(\"Code INSEE département\", StringType(), True)\\\n",
    "    .add(\"Département\", StringType(), True)\\\n",
    "    .add(\"TMin (°C)\", FloatType(), True)\\\n",
    "    .add(\"TMax (°C)\", FloatType(), True)\\\n",
    "    .add(\"TMoy (°C)\", FloatType(), True)\n",
    "\n",
    "columns_mapping = dict(zip(\n",
    "    [\"Date\", \"Code INSEE département\", \"Département\", \"TMin (°C)\", \"TMax (°C)\", \"TMoy (°C)\"],\n",
    "    [\"date\", \"county_code\", \"county_name\", \"min_temperature\", \"max_temperature\", \"avg_temperature\"]\n",
    "))\n",
    "df_temperature = spark.read.csv(\"input_data/temperature-quotidienne-departementale.csv\", sep=\";\", header=True, schema=schema_temp)\n",
    "df_temperature = df_temperature.select([F.col(c).alias(columns_mapping.get(c, c)) for c in df_temperature.columns])"
   ]
  },
  {
   "cell_type": "code",
   "execution_count": 13,
   "metadata": {},
   "outputs": [
    {
     "data": {
      "text/plain": [
       "(1148442, 705747, 2867, 102240)"
      ]
     },
     "execution_count": 13,
     "metadata": {},
     "output_type": "execute_result"
    }
   ],
   "source": [
    "df_lost.count(), df_found.count(), df_stations.count(), df_temperature.count()"
   ]
  },
  {
   "cell_type": "code",
   "execution_count": 14,
   "metadata": {},
   "outputs": [
    {
     "name": "stdout",
     "output_type": "stream",
     "text": [
      "root\n",
      " |-- date_and_time: timestamp (nullable = true)\n",
      " |-- station: string (nullable = true)\n",
      " |-- station_id: string (nullable = true)\n",
      " |-- property_nature: string (nullable = true)\n",
      " |-- property_type: string (nullable = true)\n",
      " |-- recording_type: string (nullable = true)\n",
      "\n"
     ]
    }
   ],
   "source": [
    "df_lost.printSchema()"
   ]
  },
  {
   "cell_type": "code",
   "execution_count": 15,
   "metadata": {},
   "outputs": [
    {
     "name": "stdout",
     "output_type": "stream",
     "text": [
      "root\n",
      " |-- date_and_time: timestamp (nullable = true)\n",
      " |-- recovery_date: timestamp (nullable = true)\n",
      " |-- station: string (nullable = true)\n",
      " |-- station_id: string (nullable = true)\n",
      " |-- property_nature: string (nullable = true)\n",
      " |-- property_type: string (nullable = true)\n",
      " |-- recording_type: string (nullable = true)\n",
      "\n"
     ]
    }
   ],
   "source": [
    "df_found.printSchema()"
   ]
  },
  {
   "cell_type": "code",
   "execution_count": 16,
   "metadata": {},
   "outputs": [
    {
     "name": "stdout",
     "output_type": "stream",
     "text": [
      "root\n",
      " |-- station_id: string (nullable = true)\n",
      " |-- station_name: string (nullable = true)\n",
      " |-- station_latitude: float (nullable = true)\n",
      " |-- station_longitude: float (nullable = true)\n",
      " |-- station_city_code: string (nullable = true)\n",
      " |-- station_city_name: string (nullable = true)\n",
      " |-- station_county_code: string (nullable = true)\n",
      " |-- station_county_name: string (nullable = true)\n",
      " |-- station_postal_code: string (nullable = true)\n",
      " |-- station_number_of_platforms: integer (nullable = true)\n",
      " |-- station_category: string (nullable = true)\n",
      "\n"
     ]
    }
   ],
   "source": [
    "df_stations.printSchema()"
   ]
  },
  {
   "cell_type": "code",
   "execution_count": 17,
   "metadata": {},
   "outputs": [
    {
     "name": "stdout",
     "output_type": "stream",
     "text": [
      "root\n",
      " |-- date: date (nullable = true)\n",
      " |-- county_code: string (nullable = true)\n",
      " |-- county_name: string (nullable = true)\n",
      " |-- min_temperature: float (nullable = true)\n",
      " |-- max_temperature: float (nullable = true)\n",
      " |-- avg_temperature: float (nullable = true)\n",
      "\n"
     ]
    }
   ],
   "source": [
    "df_temperature.printSchema()"
   ]
  },
  {
   "cell_type": "code",
   "execution_count": 18,
   "metadata": {},
   "outputs": [
    {
     "name": "stdout",
     "output_type": "stream",
     "text": [
      "+-------------------+-------------------+----------+--------------------+--------------------+--------------------+\n",
      "|      date_and_time|            station|station_id|     property_nature|       property_type|      recording_type|\n",
      "+-------------------+-------------------+----------+--------------------+--------------------+--------------------+\n",
      "|2019-02-13 23:08:31|               null|      null|       Autres divers|              Divers|Déclaration de Perte|\n",
      "|2019-02-13 23:22:13|               null|      null|      Livre scolaire|Livres, articles ...|Déclaration de Perte|\n",
      "|2019-02-13 23:24:16|               null|      null|      Livre de poche|Livres, articles ...|Déclaration de Perte|\n",
      "|2019-02-14 07:07:30|               null|      null|           Sac à dos|Bagagerie: sacs, ...|Déclaration de Perte|\n",
      "|2019-02-14 07:54:09|               null|      null|Ordinateur, ordin...|Appareils électro...|Déclaration de Perte|\n",
      "|2019-02-14 08:10:34|               null|      null|  Outils, Accesoires|Articles de sport...|Déclaration de Perte|\n",
      "|2019-02-14 08:19:00|               null|      null|Téléphone portabl...|Appareils électro...|Déclaration de Perte|\n",
      "|2019-02-14 08:20:23|               null|      null|Tablette tactile ...|Appareils électro...|Déclaration de Perte|\n",
      "|2019-02-14 08:29:51| Paris Montparnasse|0087391003|Téléphone portabl...|Appareils électro...|Déclaration de Perte|\n",
      "|2019-02-14 08:31:17|               null|      null|Sacs de couchage,...|Articles de sport...|Déclaration de Perte|\n",
      "|2019-02-14 08:32:36|               null|      null|    Lunettes en étui|             Optique|Déclaration de Perte|\n",
      "|2019-02-14 08:47:59|               null|      null|  Téléphone portable|Appareils électro...|Déclaration de Perte|\n",
      "|2019-02-14 08:51:13| Paris Gare de Lyon|0087686006|Autres appareils ...|Appareils électro...|Déclaration de Perte|\n",
      "|2019-02-14 08:57:31| Paris Gare de Lyon|0087686006|  Téléphone portable|Appareils électro...|Déclaration de Perte|\n",
      "|2019-02-14 09:03:43|Bordeaux Saint-Jean|0087581009|Valise, sac sur r...|Bagagerie: sacs, ...|Déclaration de Perte|\n",
      "|2019-02-14 09:06:00|               null|      null|Pièce d'identité ...|Pièces d'identité...|Déclaration de Perte|\n",
      "|2019-02-14 09:09:09|               null|      null|Téléphone portabl...|Appareils électro...|Déclaration de Perte|\n",
      "|2019-02-14 09:17:44|               null|      null|    Clés, porte-clés|Clés, porte-clés,...|Déclaration de Perte|\n",
      "|2019-02-14 09:17:45|               null|      null|    Clés, porte-clés|Clés, porte-clés,...|Déclaration de Perte|\n",
      "|2019-02-14 09:18:04|               null|      null|Sac d'enseigne (p...|Bagagerie: sacs, ...|Déclaration de Perte|\n",
      "+-------------------+-------------------+----------+--------------------+--------------------+--------------------+\n",
      "only showing top 20 rows\n",
      "\n"
     ]
    }
   ],
   "source": [
    "df_lost.show()"
   ]
  },
  {
   "cell_type": "code",
   "execution_count": 19,
   "metadata": {},
   "outputs": [
    {
     "name": "stdout",
     "output_type": "stream",
     "text": [
      "+-------------------+-------------------+--------------------+----------+--------------------+--------------------+--------------+\n",
      "|      date_and_time|      recovery_date|             station|station_id|     property_nature|       property_type|recording_type|\n",
      "+-------------------+-------------------+--------------------+----------+--------------------+--------------------+--------------+\n",
      "|2018-01-23 14:33:43|               null|             Bourges|0087576207|Autres divers (pr...|              Divers|  Objet trouvé|\n",
      "|2014-03-10 09:07:15|               null|   Toulouse Matabiau|0087611004|Sac de voyage, sa...|Bagagerie: sacs, ...|  Objet trouvé|\n",
      "|2014-02-06 08:45:32|               null|   Toulouse Matabiau|0087611004|           Sac à dos|Bagagerie: sacs, ...|  Objet trouvé|\n",
      "|2014-03-10 09:14:38|               null|           Paris Est|0087113001|Manteau, veste, b...|Vêtements, chauss...|  Objet trouvé|\n",
      "|2014-02-06 09:01:24|2014-02-07 20:55:39|           Paris Est|0087113001|Valise, sac sur r...|Bagagerie: sacs, ...|  Objet trouvé|\n",
      "|2014-03-10 09:24:59|2014-03-24 14:52:05|       Lyon Perrache|0087722025|Valise, sac sur r...|Bagagerie: sacs, ...|  Objet trouvé|\n",
      "|2014-02-06 09:39:00|               null|  Paris Gare du Nord|0087271007|            Lunettes|             Optique|  Objet trouvé|\n",
      "|2014-03-10 12:01:17|               null|          Strasbourg|0087212027|    Clés, porte-clés|Clés, porte-clés,...|  Objet trouvé|\n",
      "|2014-02-06 09:51:08|               null|  Paris Gare du Nord|0087271007|Porte-monnaie, po...|Porte-monnaie / p...|  Objet trouvé|\n",
      "|2014-03-10 16:13:47|               null|          Strasbourg|0087212027|            Lunettes|             Optique|  Objet trouvé|\n",
      "|2014-02-06 10:06:11|               null| Bordeaux Saint-Jean|0087581009|  Carte d'abonnement|Pièces d'identité...|  Objet trouvé|\n",
      "|2014-02-04 08:47:15|               null|  Paris Montparnasse|0087391003|         Autre livre|Livres, articles ...|  Objet trouvé|\n",
      "|2014-02-06 10:49:27|2014-02-09 17:06:02|  Paris Gare du Nord|0087271007|Autres divers (pr...|              Divers|  Objet trouvé|\n",
      "|2014-02-04 10:06:25|               null|  Paris Montparnasse|0087391003|Etui à lunettes vide|             Optique|  Objet trouvé|\n",
      "|2014-02-06 11:50:26|               null| Bordeaux Saint-Jean|0087581009|Porte-monnaie, po...|Porte-monnaie / p...|  Objet trouvé|\n",
      "|2014-02-04 14:05:03|               null|    Chalon-sur-Saône|0087725002|Parapluie-canne, ...|          Parapluies|  Objet trouvé|\n",
      "|2014-02-06 13:51:16|               null|Marseille Saint-C...|0087751008|    Lunettes en étui|             Optique|  Objet trouvé|\n",
      "|2014-02-04 15:07:08|2014-02-07 15:43:37|      Avignon Centre|0087765008|           Sac à dos|Bagagerie: sacs, ...|  Objet trouvé|\n",
      "|2014-02-06 18:21:09|2014-02-10 12:47:30|  Paris Gare du Nord|0087271007|Autre bagagerie (...|Bagagerie: sacs, ...|  Objet trouvé|\n",
      "|2014-02-04 21:29:25|               null| Bordeaux Saint-Jean|0087581009|  Carte d'abonnement|Pièces d'identité...|  Objet trouvé|\n",
      "+-------------------+-------------------+--------------------+----------+--------------------+--------------------+--------------+\n",
      "only showing top 20 rows\n",
      "\n"
     ]
    }
   ],
   "source": [
    "df_found.show()"
   ]
  },
  {
   "cell_type": "code",
   "execution_count": 22,
   "metadata": {},
   "outputs": [
    {
     "name": "stdout",
     "output_type": "stream",
     "text": [
      "+----------+--------------------+----------------+-----------------+-----------------+--------------------+-------------------+-------------------+-------------------+---------------------------+----------------+\n",
      "|station_id|        station_name|station_latitude|station_longitude|station_city_code|   station_city_name|station_county_code|station_county_name|station_postal_code|station_number_of_platforms|station_category|\n",
      "+----------+--------------------+----------------+-----------------+-----------------+--------------------+-------------------+-------------------+-------------------+---------------------------+----------------+\n",
      "|0087988709|    Remise à Jorelle|        48.89317|         2.487751|              010|               Bondy|                 93|  Seine-Saint-Denis|              93140|                          1|               b|\n",
      "|0087784892|          Bena Fanes|       42.458076|        1.9167264|              066|             Enveitg|                 66|Pyrénées-Orientales|              66760|                          1|               c|\n",
      "|0087784769|        Fontpédrouse|       42.513805|        2.1886585|              080|        Fontpédrouse|                 66|Pyrénées-Orientales|              66360|                          1|               c|\n",
      "|0087784736|                Nyer|         42.5417|        2.2630177|              123|                Nyer|                 66|Pyrénées-Orientales|              66360|                          1|               c|\n",
      "|0087784686|Villefranche - Ve...|          42.592|         2.370396|              223|Villefranche-de-C...|                 66|Pyrénées-Orientales|              66820|                          1|               b|\n",
      "|0087784637|Prades - Molitg-l...|         42.6171|        2.4294183|              149|              Prades|                 66|Pyrénées-Orientales|              66500|                          1|               c|\n",
      "|0087784512|            Le Soler|       42.678764|        2.7930799|              195|               Soler|                 66|Pyrénées-Orientales|              66270|                          1|               c|\n",
      "|0087784231|     Argelès-sur-Mer|        42.54397|         3.022349|              008|     Argelès-sur-Mer|                 66|Pyrénées-Orientales|              66700|                          1|               b|\n",
      "|0087783654|              Allenc|       44.541294|        3.6638925|              003|              Allenc|                 48|             Lozère|              48190|                          1|               c|\n",
      "|0087783605|               Mende|       44.522324|        3.5019875|              095|               Mende|                 48|             Lozère|              48000|                          1|               c|\n",
      "|0087783548|            Le Bruel|       44.481327|         3.358325|              056|          Esclanèdes|                 48|             Lozère|              48056|                          1|               c|\n",
      "|0087783431|Saint-Rome-de-Cernon|        44.01398|        2.9673743|              243|Saint-Rome-de-Cernon|                 12|            Aveyron|              12490|                          1|               c|\n",
      "|0087783324|Banassac - La Can...|        44.44776|        3.1958518|              017|   Banassac-Canilhac|                 48|             Lozère|              48500|                          1|               c|\n",
      "|0087783308|Le Monastier-Pin-...|        44.50897|         3.252057|              099|  Bourgs sur Colagne|                 48|             Lozère|              48100|                          1|               c|\n",
      "|0087783282|           Marvejols|        44.54468|         3.281072|              092|           Marvejols|                 48|             Lozère|              48100|                          1|               c|\n",
      "|0087782607| Clermont La Pardieu|        45.76695|         3.134163|              113|    Clermont-Ferrand|                 63|        Puy-de-Dôme|              63000|                          1|               b|\n",
      "|0087781559|         Les Cabrils|        43.77971|         3.186083|              233|        Roqueredonde|                 34|            Hérault|              34233|                          1|               c|\n",
      "|0087781542|Ceilhes - Roquere...|       43.812267|        3.1551583|              233|        Roqueredonde|                 34|            Hérault|              34260|                          1|               c|\n",
      "|0087781534|            Montpaon|       43.868523|        3.1097221|              155|          Fondamente|                 12|            Aveyron|              12540|                          1|               c|\n",
      "|0087781294|    Marseillan Plage|       43.318195|        3.5355282|              150|          Marseillan|                 34|            Hérault|              34340|                          1|               c|\n",
      "+----------+--------------------+----------------+-----------------+-----------------+--------------------+-------------------+-------------------+-------------------+---------------------------+----------------+\n",
      "only showing top 20 rows\n",
      "\n"
     ]
    }
   ],
   "source": [
    "df_stations.show()"
   ]
  },
  {
   "cell_type": "code",
   "execution_count": 23,
   "metadata": {},
   "outputs": [
    {
     "name": "stdout",
     "output_type": "stream",
     "text": [
      "+----------+-----------+----------------+---------------+---------------+---------------+\n",
      "|      date|county_code|     county_name|min_temperature|max_temperature|avg_temperature|\n",
      "+----------+-----------+----------------+---------------+---------------+---------------+\n",
      "|2019-12-31|         87|    Haute-Vienne|            2.3|           10.0|           6.15|\n",
      "|2019-12-31|         19|         Corrèze|           -2.7|           10.9|            4.1|\n",
      "|2019-12-31|         83|             Var|           4.77|          14.08|           9.43|\n",
      "|2019-12-31|         27|            Eure|           -3.1|            5.5|            1.2|\n",
      "|2019-12-31|         23|          Creuse|           -4.5|           13.2|           4.35|\n",
      "|2019-12-31|         06| Alpes-Maritimes|           5.39|          13.33|           9.36|\n",
      "|2019-12-31|         15|          Cantal|           -2.4|           10.0|            3.8|\n",
      "|2019-12-31|         43|     Haute-Loire|           -3.4|           10.3|           3.45|\n",
      "|2019-12-31|         80|           Somme|           -1.3|           4.75|           1.72|\n",
      "|2019-12-31|         74|    Haute-Savoie|           0.86|           6.61|           3.73|\n",
      "|2019-12-31|         46|             Lot|           -0.2|           11.7|           5.75|\n",
      "|2019-12-31|         21|       Côte-d'Or|           -1.7|            0.4|          -0.65|\n",
      "|2019-12-31|         13|Bouches-du-Rhône|           3.35|          12.49|           7.92|\n",
      "|2019-12-31|         37|  Indre-et-Loire|           -1.1|            5.2|           2.05|\n",
      "|2019-12-31|         82| Tarn-et-Garonne|           -1.1|           10.3|            4.6|\n",
      "|2019-12-31|         88|          Vosges|          -4.93|           4.83|          -0.05|\n",
      "|2019-12-31|         25|           Doubs|           -3.7|            4.9|            0.6|\n",
      "|2019-12-31|         81|            Tarn|           -1.0|           11.8|            5.4|\n",
      "|2019-12-31|         85|          Vendée|           3.05|           10.6|           6.82|\n",
      "|2019-12-31|         42|           Loire|           -4.9|            6.8|           0.95|\n",
      "+----------+-----------+----------------+---------------+---------------+---------------+\n",
      "only showing top 20 rows\n",
      "\n"
     ]
    }
   ],
   "source": [
    "df_temperature.show()"
   ]
  },
  {
   "cell_type": "code",
   "execution_count": 26,
   "metadata": {},
   "outputs": [],
   "source": [
    "df_lost = df_lost.withColumn(\"date\", F.to_date(F.col(\"date_and_time\")))"
   ]
  },
  {
   "cell_type": "code",
   "execution_count": 27,
   "metadata": {},
   "outputs": [
    {
     "name": "stdout",
     "output_type": "stream",
     "text": [
      "+-------------------+-------------------+----------+--------------------+--------------------+--------------------+----------+\n",
      "|      date_and_time|            station|station_id|     property_nature|       property_type|      recording_type|      date|\n",
      "+-------------------+-------------------+----------+--------------------+--------------------+--------------------+----------+\n",
      "|2019-02-13 23:08:31|               null|      null|       Autres divers|              Divers|Déclaration de Perte|2019-02-13|\n",
      "|2019-02-13 23:22:13|               null|      null|      Livre scolaire|Livres, articles ...|Déclaration de Perte|2019-02-13|\n",
      "|2019-02-13 23:24:16|               null|      null|      Livre de poche|Livres, articles ...|Déclaration de Perte|2019-02-13|\n",
      "|2019-02-14 07:07:30|               null|      null|           Sac à dos|Bagagerie: sacs, ...|Déclaration de Perte|2019-02-14|\n",
      "|2019-02-14 07:54:09|               null|      null|Ordinateur, ordin...|Appareils électro...|Déclaration de Perte|2019-02-14|\n",
      "|2019-02-14 08:10:34|               null|      null|  Outils, Accesoires|Articles de sport...|Déclaration de Perte|2019-02-14|\n",
      "|2019-02-14 08:19:00|               null|      null|Téléphone portabl...|Appareils électro...|Déclaration de Perte|2019-02-14|\n",
      "|2019-02-14 08:20:23|               null|      null|Tablette tactile ...|Appareils électro...|Déclaration de Perte|2019-02-14|\n",
      "|2019-02-14 08:29:51| Paris Montparnasse|0087391003|Téléphone portabl...|Appareils électro...|Déclaration de Perte|2019-02-14|\n",
      "|2019-02-14 08:31:17|               null|      null|Sacs de couchage,...|Articles de sport...|Déclaration de Perte|2019-02-14|\n",
      "|2019-02-14 08:32:36|               null|      null|    Lunettes en étui|             Optique|Déclaration de Perte|2019-02-14|\n",
      "|2019-02-14 08:47:59|               null|      null|  Téléphone portable|Appareils électro...|Déclaration de Perte|2019-02-14|\n",
      "|2019-02-14 08:51:13| Paris Gare de Lyon|0087686006|Autres appareils ...|Appareils électro...|Déclaration de Perte|2019-02-14|\n",
      "|2019-02-14 08:57:31| Paris Gare de Lyon|0087686006|  Téléphone portable|Appareils électro...|Déclaration de Perte|2019-02-14|\n",
      "|2019-02-14 09:03:43|Bordeaux Saint-Jean|0087581009|Valise, sac sur r...|Bagagerie: sacs, ...|Déclaration de Perte|2019-02-14|\n",
      "|2019-02-14 09:06:00|               null|      null|Pièce d'identité ...|Pièces d'identité...|Déclaration de Perte|2019-02-14|\n",
      "|2019-02-14 09:09:09|               null|      null|Téléphone portabl...|Appareils électro...|Déclaration de Perte|2019-02-14|\n",
      "|2019-02-14 09:17:44|               null|      null|    Clés, porte-clés|Clés, porte-clés,...|Déclaration de Perte|2019-02-14|\n",
      "|2019-02-14 09:17:45|               null|      null|    Clés, porte-clés|Clés, porte-clés,...|Déclaration de Perte|2019-02-14|\n",
      "|2019-02-14 09:18:04|               null|      null|Sac d'enseigne (p...|Bagagerie: sacs, ...|Déclaration de Perte|2019-02-14|\n",
      "+-------------------+-------------------+----------+--------------------+--------------------+--------------------+----------+\n",
      "only showing top 20 rows\n",
      "\n"
     ]
    }
   ],
   "source": [
    "df_lost.show()"
   ]
  },
  {
   "cell_type": "code",
   "execution_count": 28,
   "metadata": {},
   "outputs": [
    {
     "name": "stdout",
     "output_type": "stream",
     "text": [
      "root\n",
      " |-- date_and_time: timestamp (nullable = true)\n",
      " |-- station: string (nullable = true)\n",
      " |-- station_id: string (nullable = true)\n",
      " |-- property_nature: string (nullable = true)\n",
      " |-- property_type: string (nullable = true)\n",
      " |-- recording_type: string (nullable = true)\n",
      " |-- date: date (nullable = true)\n",
      "\n"
     ]
    }
   ],
   "source": [
    "df_lost.printSchema()"
   ]
  },
  {
   "cell_type": "code",
   "execution_count": 37,
   "metadata": {},
   "outputs": [
    {
     "data": {
      "text/plain": [
       "(180,\n",
       " ['0087313510',\n",
       "  '0087713040',\n",
       "  '0087343004',\n",
       "  '0087671008',\n",
       "  '0087543017',\n",
       "  '0087592006',\n",
       "  '0087491001',\n",
       "  '0087444711',\n",
       "  '0087144014',\n",
       "  '0087575001',\n",
       "  '0087745000',\n",
       "  '0087113001',\n",
       "  '0087319012',\n",
       "  '0087611004',\n",
       "  '0087172007',\n",
       "  '0087582668',\n",
       "  '0087741728',\n",
       "  '0087734053',\n",
       "  '0087444265',\n",
       "  '0087725689',\n",
       "  '0087781104',\n",
       "  '0087415018',\n",
       "  '0087286542',\n",
       "  '0087673202',\n",
       "  '0087345520',\n",
       "  '0087741793',\n",
       "  '0087688887',\n",
       "  '0087381897',\n",
       "  '0087411173',\n",
       "  '0087276691',\n",
       "  '0087481002',\n",
       "  '0087696005',\n",
       "  '0087345025',\n",
       "  '0087474007',\n",
       "  '0087391003',\n",
       "  '0087174003',\n",
       "  '0087413385',\n",
       "  '0087761007',\n",
       "  '0087295600',\n",
       "  '0087382655',\n",
       "  '0087781005',\n",
       "  '0087313874',\n",
       "  '0087615286',\n",
       "  '0087192039',\n",
       "  '0087484006',\n",
       "  '0087318964',\n",
       "  '0087118000',\n",
       "  '0087317362',\n",
       "  '0087672006',\n",
       "  '0087171009',\n",
       "  '0087485300',\n",
       "  '0087141150',\n",
       "  '0087686006',\n",
       "  '0087726000',\n",
       "  '0087486019',\n",
       "  '0087271494',\n",
       "  '0087481705',\n",
       "  '0087547000',\n",
       "  '0087212027',\n",
       "  '0087471003',\n",
       "  '0087382861',\n",
       "  '0087447003',\n",
       "  '0087342337',\n",
       "  '0087387001',\n",
       "  '0087317065',\n",
       "  '0087223263',\n",
       "  '0087571000',\n",
       "  '0087597005',\n",
       "  '0087276006',\n",
       "  '0087342014',\n",
       "  '0087396002',\n",
       "  '0087444539',\n",
       "  '0087478107',\n",
       "  '0087571240',\n",
       "  '0087726802',\n",
       "  '0087271007',\n",
       "  '0087775007',\n",
       "  '0087574004',\n",
       "  '0087785006',\n",
       "  '0087594002',\n",
       "  '0087751008',\n",
       "  '0087444372',\n",
       "  '0087673004',\n",
       "  '0087611244',\n",
       "  '0087491803',\n",
       "  '0087393702',\n",
       "  '0087745646',\n",
       "  '0087595009',\n",
       "  '0087734004',\n",
       "  '0087286302',\n",
       "  '0087473207',\n",
       "  '0087747006',\n",
       "  '0087576009',\n",
       "  '0087745679',\n",
       "  '0087575142',\n",
       "  '0087473009',\n",
       "  '0087543009',\n",
       "  '0087586545',\n",
       "  '0087671339',\n",
       "  '0087741009',\n",
       "  '0087184002',\n",
       "  '0087411017',\n",
       "  '0087296004',\n",
       "  '0087317586',\n",
       "  '0087725002',\n",
       "  '0087773002',\n",
       "  '0087581009',\n",
       "  '0087763029',\n",
       "  '0087296012',\n",
       "  '0087763607',\n",
       "  '0087476606',\n",
       "  '0087212225',\n",
       "  '0087175042',\n",
       "  '0087214056',\n",
       "  '0087576207',\n",
       "  '0087111849',\n",
       "  '0087746479',\n",
       "  '0087144006',\n",
       "  '0087214577',\n",
       "  '0087144451',\n",
       "  '0087281006',\n",
       "  '0087755009',\n",
       "  '0087478404',\n",
       "  '0087743005',\n",
       "  '0087586008',\n",
       "  '0087686667',\n",
       "  '0087386573',\n",
       "  '0087281071',\n",
       "  '0087481788',\n",
       "  '0087471300',\n",
       "  '0087485003',\n",
       "  '0087300822',\n",
       "  '0087723197',\n",
       "  '0087384008',\n",
       "  '0087756056',\n",
       "  '0087583005',\n",
       "  '0087765008',\n",
       "  '0087444000',\n",
       "  '0087345009',\n",
       "  '0087415604',\n",
       "  '0087673400',\n",
       "  '0087584052',\n",
       "  '0087757625',\n",
       "  '0087182063',\n",
       "  '0087213058',\n",
       "  '0087718007',\n",
       "  '0087447110',\n",
       "  '0087444877',\n",
       "  '0087732008',\n",
       "  '0087342006',\n",
       "  '0087745497',\n",
       "  '0087476200',\n",
       "  '0087696328',\n",
       "  '0087981902',\n",
       "  '0087215012',\n",
       "  '0087703975',\n",
       "  '0087381509',\n",
       "  '0087317263',\n",
       "  '0087382358',\n",
       "  '0087295006',\n",
       "  '0087677005',\n",
       "  '0087474098',\n",
       "  '0087722025',\n",
       "  '0087476002',\n",
       "  '0087474338',\n",
       "  '0087741132',\n",
       "  '0087683268',\n",
       "  '0087743716',\n",
       "  '0087191007',\n",
       "  '0087182014',\n",
       "  '0087742007',\n",
       "  '0087381848',\n",
       "  '0087584268',\n",
       "  '0087447680',\n",
       "  '0087141002',\n",
       "  '0087746008',\n",
       "  '0087641001',\n",
       "  '0087394007',\n",
       "  '0087784009',\n",
       "  '0087413013'])"
      ]
     },
     "execution_count": 37,
     "metadata": {},
     "output_type": "execute_result"
    }
   ],
   "source": [
    "tmp1 = [item.station_id for item in df_lost.select(\"station_id\").distinct().collect() if item.station_id is not None]\n",
    "len(tmp1), tmp1"
   ]
  },
  {
   "cell_type": "code",
   "execution_count": 39,
   "metadata": {},
   "outputs": [
    {
     "data": {
      "text/plain": [
       "(181,\n",
       " ['0087313510',\n",
       "  '0087713040',\n",
       "  '0087343004',\n",
       "  '0087592006',\n",
       "  '0087543017',\n",
       "  '0087671008',\n",
       "  '0087491001',\n",
       "  '0087444711',\n",
       "  '0087144014',\n",
       "  '0087575001',\n",
       "  '0087745000',\n",
       "  '0087113001',\n",
       "  '0087319012',\n",
       "  '0087611004',\n",
       "  '0087172007',\n",
       "  '0087741728',\n",
       "  '0087582668',\n",
       "  '0087734053',\n",
       "  '0087444265',\n",
       "  '0087725689',\n",
       "  '0087781104',\n",
       "  '0087415018',\n",
       "  '0087673202',\n",
       "  '0087286542',\n",
       "  '0087345520',\n",
       "  '0087741793',\n",
       "  '0087688887',\n",
       "  '0087381897',\n",
       "  '0087411173',\n",
       "  '0087276691',\n",
       "  '0087345025',\n",
       "  '0087481002',\n",
       "  '0087696005',\n",
       "  '0087474007',\n",
       "  '0087391003',\n",
       "  '0087174003',\n",
       "  '0087413385',\n",
       "  '0087761007',\n",
       "  '0087382655',\n",
       "  '0087295600',\n",
       "  '0087313874',\n",
       "  '0087781005',\n",
       "  '0087615286',\n",
       "  '0087192039',\n",
       "  '0087484006',\n",
       "  '0087318964',\n",
       "  '0087118000',\n",
       "  '0087317362',\n",
       "  '0087672006',\n",
       "  '0087171009',\n",
       "  '0087485300',\n",
       "  '0087141150',\n",
       "  '0087686006',\n",
       "  '0087726000',\n",
       "  '0087486019',\n",
       "  '0087271494',\n",
       "  '0087481705',\n",
       "  '0087547000',\n",
       "  '0087212027',\n",
       "  '0087471003',\n",
       "  '0087382861',\n",
       "  '0087447003',\n",
       "  '0087342337',\n",
       "  '0087387001',\n",
       "  '0087317065',\n",
       "  '0087223263',\n",
       "  '0087571000',\n",
       "  '0087276006',\n",
       "  '0087597005',\n",
       "  '0087342014',\n",
       "  '0087396002',\n",
       "  '0087444539',\n",
       "  '0087571240',\n",
       "  '0087726802',\n",
       "  '0087478107',\n",
       "  '0087271007',\n",
       "  '0087775007',\n",
       "  '0087574004',\n",
       "  '0087785006',\n",
       "  '0087594002',\n",
       "  '0087751008',\n",
       "  '0087193003',\n",
       "  '0087444372',\n",
       "  '0087673004',\n",
       "  '0087491803',\n",
       "  '0087611244',\n",
       "  '0087393702',\n",
       "  '0087745646',\n",
       "  '0087734004',\n",
       "  '0087595009',\n",
       "  '0087286302',\n",
       "  '0087473207',\n",
       "  '0087747006',\n",
       "  '0087576009',\n",
       "  '0087745679',\n",
       "  '0087473009',\n",
       "  '0087575142',\n",
       "  '0087543009',\n",
       "  '0087586545',\n",
       "  '0087671339',\n",
       "  '0087741009',\n",
       "  '0087184002',\n",
       "  '0087411017',\n",
       "  '0087296004',\n",
       "  '0087725002',\n",
       "  '0087317586',\n",
       "  '0087773002',\n",
       "  '0087581009',\n",
       "  '0087763029',\n",
       "  '0087296012',\n",
       "  '0087763607',\n",
       "  '0087476606',\n",
       "  '0087212225',\n",
       "  '0087175042',\n",
       "  '0087576207',\n",
       "  '0087214056',\n",
       "  '0087111849',\n",
       "  '0087746479',\n",
       "  '0087144006',\n",
       "  '0087214577',\n",
       "  '0087144451',\n",
       "  '0087281006',\n",
       "  '0087755009',\n",
       "  '0087478404',\n",
       "  '0087743005',\n",
       "  '0087686667',\n",
       "  '0087586008',\n",
       "  '0087386573',\n",
       "  '0087286005',\n",
       "  '0087281071',\n",
       "  '0087481788',\n",
       "  '0087471300',\n",
       "  '0087485003',\n",
       "  '0087300822',\n",
       "  '0087384008',\n",
       "  '0087723197',\n",
       "  '0087756056',\n",
       "  '0087583005',\n",
       "  '0087765008',\n",
       "  '0087444000',\n",
       "  '0087415604',\n",
       "  '0087345009',\n",
       "  '0087673400',\n",
       "  '0087584052',\n",
       "  '0087757625',\n",
       "  '0087182063',\n",
       "  '0087718007',\n",
       "  '0087213058',\n",
       "  '0087447110',\n",
       "  '0087444877',\n",
       "  '0087732008',\n",
       "  '0087342006',\n",
       "  '0087745497',\n",
       "  '0087476200',\n",
       "  '0087696328',\n",
       "  '0087215012',\n",
       "  '0087703975',\n",
       "  '0087295006',\n",
       "  '0087381509',\n",
       "  '0087317263',\n",
       "  '0087382358',\n",
       "  '0087677005',\n",
       "  '0087474098',\n",
       "  '0087722025',\n",
       "  '0087476002',\n",
       "  '0087474338',\n",
       "  '0087741132',\n",
       "  '0087683268',\n",
       "  '0087743716',\n",
       "  '0087191007',\n",
       "  '0087182014',\n",
       "  '0087381848',\n",
       "  '0087742007',\n",
       "  '0087584268',\n",
       "  '0087447680',\n",
       "  '0087141002',\n",
       "  '0087746008',\n",
       "  '0087641001',\n",
       "  '0087394007',\n",
       "  '0087784009',\n",
       "  '0087413013'])"
      ]
     },
     "execution_count": 39,
     "metadata": {},
     "output_type": "execute_result"
    }
   ],
   "source": [
    "tmp2 = [item.station_id for item in df_found.select(\"station_id\").distinct().collect() if item.station_id is not None]\n",
    "len(tmp2), tmp2"
   ]
  },
  {
   "cell_type": "code",
   "execution_count": 40,
   "metadata": {},
   "outputs": [
    {
     "data": {
      "text/plain": [
       "(2867,\n",
       " ['0087615476',\n",
       "  '0087342246',\n",
       "  '0087723700',\n",
       "  '0087722561',\n",
       "  '0087491282',\n",
       "  '0087214213',\n",
       "  '0087773465',\n",
       "  '0087313510',\n",
       "  '0087182725',\n",
       "  '0087444182',\n",
       "  '0087141051',\n",
       "  '0087342071',\n",
       "  '0087271528',\n",
       "  '0087582700',\n",
       "  '0087484360',\n",
       "  '0087394221',\n",
       "  '0087645481',\n",
       "  '0087393470',\n",
       "  '0087142240',\n",
       "  '0087718296',\n",
       "  '0087592121',\n",
       "  '0087696492',\n",
       "  '0087723494',\n",
       "  '0087545269',\n",
       "  '0087345314',\n",
       "  '0087343004',\n",
       "  '0087185595',\n",
       "  '0087142109',\n",
       "  '0087751776',\n",
       "  '0087713040',\n",
       "  '0087545277',\n",
       "  '0087576348',\n",
       "  '0087491357',\n",
       "  '0087313809',\n",
       "  '0087296244',\n",
       "  '0087214643',\n",
       "  '0087116772',\n",
       "  '0087784702',\n",
       "  '0087753582',\n",
       "  '0087734343',\n",
       "  '0087718338',\n",
       "  '0087543090',\n",
       "  '0087286427',\n",
       "  '0087115873',\n",
       "  '0087775841',\n",
       "  '0087761247',\n",
       "  '0087671008',\n",
       "  '0087491001',\n",
       "  '0087297119',\n",
       "  '0087672139',\n",
       "  '0087592006',\n",
       "  '0087595728',\n",
       "  '0087313726',\n",
       "  '0087726406',\n",
       "  '0087594119',\n",
       "  '0087444711',\n",
       "  '0087313882',\n",
       "  '0087191700',\n",
       "  '0087543017',\n",
       "  '0087393165',\n",
       "  '0087212100',\n",
       "  '0087734426',\n",
       "  '0087613398',\n",
       "  '0087594275',\n",
       "  '0087473074',\n",
       "  '0087353599',\n",
       "  '0087761726',\n",
       "  '0087734293',\n",
       "  '0087345546',\n",
       "  '0087281469',\n",
       "  '0087212126',\n",
       "  '0087144014',\n",
       "  '0087576439',\n",
       "  '0087271171',\n",
       "  '0087212167',\n",
       "  '0087672774',\n",
       "  '0087757690',\n",
       "  '0087345496',\n",
       "  '0087272047',\n",
       "  '0087598755',\n",
       "  '0087473066',\n",
       "  '0087271486',\n",
       "  '0087212332',\n",
       "  '0087726414',\n",
       "  '0087696831',\n",
       "  '0087613604',\n",
       "  '0087592675',\n",
       "  '0087276485',\n",
       "  '0087141390',\n",
       "  '0087141127',\n",
       "  '0087745000',\n",
       "  '0087696229',\n",
       "  '0087726216',\n",
       "  '0087575001',\n",
       "  '0087393538',\n",
       "  '0087784827',\n",
       "  '0087721050',\n",
       "  '0087718213',\n",
       "  '0087592022',\n",
       "  '0087571653',\n",
       "  '0087182568',\n",
       "  '0087753459',\n",
       "  '0087487249',\n",
       "  '0087276352',\n",
       "  '0087313585',\n",
       "  '0087413203',\n",
       "  '0087319012',\n",
       "  '0087746727',\n",
       "  '0087113001',\n",
       "  '0087775171',\n",
       "  '0087313460',\n",
       "  '0087212365',\n",
       "  '0087171298',\n",
       "  '0087757591',\n",
       "  '0087718544',\n",
       "  '0087576868',\n",
       "  '0087478032',\n",
       "  '0087159947',\n",
       "  '0087783563',\n",
       "  '0087681353',\n",
       "  '0087296871',\n",
       "  '0087615369',\n",
       "  '0087697318',\n",
       "  '0087684233',\n",
       "  '0087775130',\n",
       "  '0087387159',\n",
       "  '0087775346',\n",
       "  '0087718122',\n",
       "  '0087641043',\n",
       "  '0087437798',\n",
       "  '0087337980',\n",
       "  '0087296459',\n",
       "  '0087212142',\n",
       "  '0087741074',\n",
       "  '0087611004',\n",
       "  '0087761106',\n",
       "  '0087611376',\n",
       "  '0087597740',\n",
       "  '0087484147',\n",
       "  '0087296418',\n",
       "  '0087172007',\n",
       "  '0087113209',\n",
       "  '0087387183',\n",
       "  '0087781294',\n",
       "  '0087746149',\n",
       "  '0087474221',\n",
       "  '0087193250',\n",
       "  '0087171462',\n",
       "  '0087141481',\n",
       "  '0087594796',\n",
       "  '0087581231',\n",
       "  '0087286625',\n",
       "  '0087272021',\n",
       "  '0087741728',\n",
       "  '0087582668',\n",
       "  '0087571448',\n",
       "  '0087386649',\n",
       "  '0087386417',\n",
       "  '0087171330',\n",
       "  '0087722405',\n",
       "  '0087713511',\n",
       "  '0087751230',\n",
       "  '0087592279',\n",
       "  '0087171587',\n",
       "  '0087481622',\n",
       "  '0087751529',\n",
       "  '0087582551',\n",
       "  '0087381889',\n",
       "  '0087317057',\n",
       "  '0087734053',\n",
       "  '0087715417',\n",
       "  '0087594614',\n",
       "  '0087592311',\n",
       "  '0087575365',\n",
       "  '0087491209',\n",
       "  '0087393215',\n",
       "  '0087751743',\n",
       "  '0087681338',\n",
       "  '0087478164',\n",
       "  '0087342576',\n",
       "  '0087271874',\n",
       "  '0087471508',\n",
       "  '0087342527',\n",
       "  '0087276451',\n",
       "  '0087755223',\n",
       "  '0087594416',\n",
       "  '0087396051',\n",
       "  '0087215160',\n",
       "  '0087175018',\n",
       "  '0087682476',\n",
       "  '0087681312',\n",
       "  '0087618215',\n",
       "  '0087594572',\n",
       "  '0087576884',\n",
       "  '0087673616',\n",
       "  '0087182238',\n",
       "  '0087144147',\n",
       "  '0087761759',\n",
       "  '0087144097',\n",
       "  '0087582833',\n",
       "  '0087575498',\n",
       "  '0087192286',\n",
       "  '0087761718',\n",
       "  '0087486258',\n",
       "  '0087471342',\n",
       "  '0087725689',\n",
       "  '0087444265',\n",
       "  '0087286641',\n",
       "  '0087783423',\n",
       "  '0087781104',\n",
       "  '0087382366',\n",
       "  '0087613422',\n",
       "  '0087473579',\n",
       "  '0087286179',\n",
       "  '0087212407',\n",
       "  '0087783241',\n",
       "  '0087713636',\n",
       "  '0087316125',\n",
       "  '0087574160',\n",
       "  '0087571513',\n",
       "  '0087485136',\n",
       "  '0087415018',\n",
       "  '0087317610',\n",
       "  '0087214106',\n",
       "  '0087783365',\n",
       "  '0087763425',\n",
       "  '0087696203',\n",
       "  '0087694174',\n",
       "  '0087543165',\n",
       "  '0087394114',\n",
       "  '0087281444',\n",
       "  '0087182709',\n",
       "  '0087672337',\n",
       "  '0087471185',\n",
       "  '0087396259',\n",
       "  '0087757740',\n",
       "  '0087394148',\n",
       "  '0087141036',\n",
       "  '0087594424',\n",
       "  '0087575118',\n",
       "  '0087611046',\n",
       "  '0087281436',\n",
       "  '0087684001',\n",
       "  '0087413310',\n",
       "  '0087673202',\n",
       "  '0087276741',\n",
       "  '0087765735',\n",
       "  '0087715151',\n",
       "  '0087592063',\n",
       "  '0087581835',\n",
       "  '0087545756',\n",
       "  '0087182840',\n",
       "  '0087576215',\n",
       "  '0087576157',\n",
       "  '0087394411',\n",
       "  '0087286542',\n",
       "  '0087773408',\n",
       "  '0087597070',\n",
       "  '0087584714',\n",
       "  '0087396408',\n",
       "  '0087345041',\n",
       "  '0087324095',\n",
       "  '0087116632',\n",
       "  '0087317396',\n",
       "  '0087382499',\n",
       "  '0087214676',\n",
       "  '0087751750',\n",
       "  '0087731828',\n",
       "  '0087725895',\n",
       "  '0087696179',\n",
       "  '0087486316',\n",
       "  '0087775213',\n",
       "  '0087595769',\n",
       "  '0087543074',\n",
       "  '0087473553',\n",
       "  '0087342105',\n",
       "  '0087286187',\n",
       "  '0087141408',\n",
       "  '0087697342',\n",
       "  '0087592105',\n",
       "  '0087571216',\n",
       "  '0087721761',\n",
       "  '0087684241',\n",
       "  '0087613463',\n",
       "  '0087613323',\n",
       "  '0087611137',\n",
       "  '0087576272',\n",
       "  '0087753574',\n",
       "  '0087212191',\n",
       "  '0087543207',\n",
       "  '0087485151',\n",
       "  '0087471201',\n",
       "  '0087286062',\n",
       "  '0087575357',\n",
       "  '0087345520',\n",
       "  '0087342063',\n",
       "  '0087742320',\n",
       "  '0087696088',\n",
       "  '0087595165',\n",
       "  '0087725820',\n",
       "  '0087584615',\n",
       "  '0087381194',\n",
       "  '0087673103',\n",
       "  '0087342220',\n",
       "  '0087543199',\n",
       "  '0087296145',\n",
       "  '0087276022',\n",
       "  '0087741793',\n",
       "  '0087715391',\n",
       "  '0087595520',\n",
       "  '0087313247',\n",
       "  '0087214635',\n",
       "  '0087783548',\n",
       "  '0087611848',\n",
       "  '0087571471',\n",
       "  '0087393082',\n",
       "  '0087741231',\n",
       "  '0087343210',\n",
       "  '0087278259',\n",
       "  '0087721464',\n",
       "  '0087313130',\n",
       "  '0087276600',\n",
       "  '0087141432',\n",
       "  '0087576447',\n",
       "  '0087474312',\n",
       "  '0087688887',\n",
       "  '0087741504',\n",
       "  '0087571604',\n",
       "  '0087214338',\n",
       "  '0087755405',\n",
       "  '0087592337',\n",
       "  '0087484352',\n",
       "  '0087478081',\n",
       "  '0087381798',\n",
       "  '0087700153',\n",
       "  '0087444067',\n",
       "  '0087411173',\n",
       "  '0087393256',\n",
       "  '0087287128',\n",
       "  '0087144279',\n",
       "  '0087615419',\n",
       "  '0087271015',\n",
       "  '0087743633',\n",
       "  '0087575050',\n",
       "  '0087381897',\n",
       "  '0087725671',\n",
       "  '0087534339',\n",
       "  '0087486449',\n",
       "  '0087447185',\n",
       "  '0087342451',\n",
       "  '0087286146',\n",
       "  '0087783308',\n",
       "  '0087742361',\n",
       "  '0087581801',\n",
       "  '0087276386',\n",
       "  '0087172031',\n",
       "  '0087696427',\n",
       "  '0087484139',\n",
       "  '0087286583',\n",
       "  '0087672600',\n",
       "  '0087184267',\n",
       "  '0087781559',\n",
       "  '0087715003',\n",
       "  '0087411280',\n",
       "  '0087144121',\n",
       "  '0087182592',\n",
       "  '0087172239',\n",
       "  '0087415885',\n",
       "  '0087393439',\n",
       "  '0087757724',\n",
       "  '0087645002',\n",
       "  '0087313734',\n",
       "  '0087113779',\n",
       "  '0087751321',\n",
       "  '0087276097',\n",
       "  '0087645192',\n",
       "  '0087592253',\n",
       "  '0087583823',\n",
       "  '0087213470',\n",
       "  '0087747287',\n",
       "  '0087413732',\n",
       "  '0087276691',\n",
       "  '0087276642',\n",
       "  '0087478511',\n",
       "  '0087586404',\n",
       "  '0087481192',\n",
       "  '0087116277',\n",
       "  '0087784686',\n",
       "  '0087734699',\n",
       "  '0087726331',\n",
       "  '0087383281',\n",
       "  '0087182337',\n",
       "  '0087576173',\n",
       "  '0087571539',\n",
       "  '0087313437',\n",
       "  '0087214270',\n",
       "  '0087478131',\n",
       "  '0087444083',\n",
       "  '0087393314',\n",
       "  '0087296269',\n",
       "  '0087215665',\n",
       "  '0087721340',\n",
       "  '0087592808',\n",
       "  '0087545244',\n",
       "  '0087571851',\n",
       "  '0087393611',\n",
       "  '0087345025',\n",
       "  '0087276584',\n",
       "  '0087784835',\n",
       "  '0087753657',\n",
       "  '0087481002',\n",
       "  '0087575704',\n",
       "  '0087491274',\n",
       "  '0087474155',\n",
       "  '0087116319',\n",
       "  '0087696005',\n",
       "  '0087276410',\n",
       "  '0087214288',\n",
       "  '0087753418',\n",
       "  '0087571794',\n",
       "  '0087328195',\n",
       "  '0087615252',\n",
       "  '0087595777',\n",
       "  '0087582718',\n",
       "  '0087444414',\n",
       "  '0087713578',\n",
       "  '0087313114',\n",
       "  '0087474007',\n",
       "  '0087746107',\n",
       "  '0087271783',\n",
       "  '0087113894',\n",
       "  '0087775379',\n",
       "  '0087575290',\n",
       "  '0087545301',\n",
       "  '0087682419',\n",
       "  '0087276105',\n",
       "  '0087174003',\n",
       "  '0087545160',\n",
       "  '0087491183',\n",
       "  '0087415661',\n",
       "  '0087391003',\n",
       "  '0087753541',\n",
       "  '0087382879',\n",
       "  '0087334508',\n",
       "  '0087212373',\n",
       "  '0087481689',\n",
       "  '0087193318',\n",
       "  '0087116491',\n",
       "  '0087755330',\n",
       "  '0087734723',\n",
       "  '0087413385',\n",
       "  '0087297283',\n",
       "  '0087476408',\n",
       "  '0087590364',\n",
       "  '0087478537',\n",
       "  '0087476234',\n",
       "  '0087783514',\n",
       "  '0087571422',\n",
       "  '0087215103',\n",
       "  '0087784629',\n",
       "  '0087755389',\n",
       "  '0087343459',\n",
       "  '0087342097',\n",
       "  '0087393884',\n",
       "  '0087382804',\n",
       "  '0087317164',\n",
       "  '0087316075',\n",
       "  '0087756460',\n",
       "  '0087775825',\n",
       "  '0087765503',\n",
       "  '0087746347',\n",
       "  '0087592246',\n",
       "  '0087381202',\n",
       "  '0087313346',\n",
       "  '0087471524',\n",
       "  '0087193672',\n",
       "  '0087576231',\n",
       "  '0087354589',\n",
       "  '0087287250',\n",
       "  '0087582759',\n",
       "  '0087734129',\n",
       "  '0087481614',\n",
       "  '0087473116',\n",
       "  '0087182253',\n",
       "  '0087393454',\n",
       "  '0087313817',\n",
       "  '0087313692',\n",
       "  '0087271775',\n",
       "  '0087682500',\n",
       "  '0087761007',\n",
       "  '0087594499',\n",
       "  '0087575167',\n",
       "  '0087474635',\n",
       "  '0087212340',\n",
       "  '0087474262',\n",
       "  '0087734178',\n",
       "  '0087725838',\n",
       "  '0087684407',\n",
       "  '0087582734',\n",
       "  '0087387092',\n",
       "  '0087184556',\n",
       "  '0087141416',\n",
       "  '0087784736',\n",
       "  '0087756353',\n",
       "  '0087718270',\n",
       "  '0087682468',\n",
       "  '0087574459',\n",
       "  '0087411470',\n",
       "  '0087382655',\n",
       "  '0087164798',\n",
       "  '0087743526',\n",
       "  '0087476275',\n",
       "  '0087276345',\n",
       "  '0087141820',\n",
       "  '0087721290',\n",
       "  '0087683219',\n",
       "  '0087615377',\n",
       "  '0087174276',\n",
       "  '0087295600',\n",
       "  '0087611327',\n",
       "  '0087317339',\n",
       "  '0087337378',\n",
       "  '0087313874',\n",
       "  '0087713412',\n",
       "  '0087594747',\n",
       "  '0087592667',\n",
       "  '0087784868',\n",
       "  '0087718130',\n",
       "  '0087543157',\n",
       "  '0087781005',\n",
       "  '0087615120',\n",
       "  '0087725713',\n",
       "  '0087683201',\n",
       "  '0087584607',\n",
       "  '0087485342',\n",
       "  '0087474064',\n",
       "  '0087345264',\n",
       "  '0087775288',\n",
       "  '0087141812',\n",
       "  '0087681635',\n",
       "  '0087645184',\n",
       "  '0087615286',\n",
       "  '0087478065',\n",
       "  '0087694307',\n",
       "  '0087478552',\n",
       "  '0087641068',\n",
       "  '0087396093',\n",
       "  '0087317404',\n",
       "  '0087276055',\n",
       "  '0087745380',\n",
       "  '0087713503',\n",
       "  '0087696617',\n",
       "  '0087611855',\n",
       "  '0087485334',\n",
       "  '0087559070',\n",
       "  '0087286195',\n",
       "  '0087725614',\n",
       "  '0087722728',\n",
       "  '0087545467',\n",
       "  '0087473108',\n",
       "  '0087317099',\n",
       "  '0087118158',\n",
       "  '0087276774',\n",
       "  '0087784728',\n",
       "  '0087592048',\n",
       "  '0087313213',\n",
       "  '0087276196',\n",
       "  '0087746750',\n",
       "  '0087444638',\n",
       "  '0087317255',\n",
       "  '0087192039',\n",
       "  '0087113704',\n",
       "  '0087484006',\n",
       "  '0087191635',\n",
       "  '0087726729',\n",
       "  '0087672162',\n",
       "  '0087415158',\n",
       "  '0087185629',\n",
       "  '0087783605',\n",
       "  '0087592162',\n",
       "  '0087116400',\n",
       "  '0087775098',\n",
       "  '0087753285',\n",
       "  '0087761163',\n",
       "  '0087478743',\n",
       "  '0087473843',\n",
       "  '0087144063',\n",
       "  '0087118000',\n",
       "  '0087784819',\n",
       "  '0087723544',\n",
       "  '0087683243',\n",
       "  '0087318964',\n",
       "  '0087755421',\n",
       "  '0087182345',\n",
       "  '0087171512',\n",
       "  '0087721704',\n",
       "  '0087592493',\n",
       "  '0087756387',\n",
       "  '0087313445',\n",
       "  '0087141119',\n",
       "  '0087276360',\n",
       "  '0087700146',\n",
       "  '0087718510',\n",
       "  '0087575191',\n",
       "  '0087481812',\n",
       "  '0087784512',\n",
       "  '0087721860',\n",
       "  '0087721449',\n",
       "  '0087681395',\n",
       "  '0087613877',\n",
       "  '0087580340',\n",
       "  '0087116012',\n",
       "  '0087713677',\n",
       "  '0087611624',\n",
       "  '0087684126',\n",
       "  '0087478099',\n",
       "  '0087396598',\n",
       "  '0087184200',\n",
       "  '0087181289',\n",
       "  '0087381566',\n",
       "  '0087317362',\n",
       "  '0087783175',\n",
       "  '0087753202',\n",
       "  '0087672725',\n",
       "  '0087313601',\n",
       "  '0087276287',\n",
       "  '0087751636',\n",
       "  '0087726786',\n",
       "  '0087611350',\n",
       "  '0087611103',\n",
       "  '0087722652',\n",
       "  '0087671123',\n",
       "  '0087641449',\n",
       "  '0087615542',\n",
       "  '0087193714',\n",
       "  '0087784231',\n",
       "  '0087726448',\n",
       "  '0087574665',\n",
       "  '0087394247',\n",
       "  '0087672741',\n",
       "  '0087741223',\n",
       "  '0087611525',\n",
       "  '0087583443',\n",
       "  '0087701532',\n",
       "  '0087214148',\n",
       "  '0087181552',\n",
       "  '0087713701',\n",
       "  '0087342303',\n",
       "  '0087342469',\n",
       "  '0087184242',\n",
       "  '0087725846',\n",
       "  '0087381426',\n",
       "  '0087338525',\n",
       "  '0087756833',\n",
       "  '0087672006',\n",
       "  '0087595579',\n",
       "  '0087481747',\n",
       "  '0087393553',\n",
       "  '0087753707',\n",
       "  '0087677104',\n",
       "  '0087345561',\n",
       "  '0087185249',\n",
       "  '0087751404',\n",
       "  '0087763755',\n",
       "  '0087743757',\n",
       "  '0087543066',\n",
       "  '0087271148',\n",
       "  '0087215335',\n",
       "  '0087172122',\n",
       "  '0087472639',\n",
       "  '0087345140',\n",
       "  '0087671313',\n",
       "  '0087611665',\n",
       "  '0087393637',\n",
       "  '0087595751',\n",
       "  '0087576199',\n",
       "  '0087171314',\n",
       "  '0087342279',\n",
       "  '0087393041',\n",
       "  '0087345249',\n",
       "  '0087271304',\n",
       "  '0087182113',\n",
       "  '0087726208',\n",
       "  '0087592824',\n",
       "  '0087295733',\n",
       "  '0087182550',\n",
       "  '0087718841',\n",
       "  '0087487603',\n",
       "  '0087215079',\n",
       "  '0087171595',\n",
       "  '0087741769',\n",
       "  '0087694646',\n",
       "  '0087597153',\n",
       "  '0087182691',\n",
       "  '0087540179',\n",
       "  '0087393876',\n",
       "  '0087317321',\n",
       "  '0087761817',\n",
       "  '0087396028',\n",
       "  '0087171272',\n",
       "  '0087781583',\n",
       "  '0087761239',\n",
       "  '0087613802',\n",
       "  '0087396895',\n",
       "  '0087393033',\n",
       "  '0087743328',\n",
       "  '0087592691',\n",
       "  '0087592170',\n",
       "  '0087213660',\n",
       "  '0087171009',\n",
       "  '0087611400',\n",
       "  '0087444042',\n",
       "  '0087775254',\n",
       "  '0087575274',\n",
       "  '0087545491',\n",
       "  '0087682005',\n",
       "  '0087575217',\n",
       "  '0087574152',\n",
       "  '0087182667',\n",
       "  '0087144436',\n",
       "  '0087394171',\n",
       "  '0087271205',\n",
       "  '0087345389',\n",
       "  '0087618116',\n",
       "  '0087571802',\n",
       "  '0087761650',\n",
       "  '0087745596',\n",
       "  '0087613356',\n",
       "  '0087317222',\n",
       "  '0087141101',\n",
       "  '0087597823',\n",
       "  '0087485300',\n",
       "  '0087271445',\n",
       "  '0087172098',\n",
       "  '0087141150',\n",
       "  '0087113407',\n",
       "  '0087546226',\n",
       "  '0087393504',\n",
       "  '0087747493',\n",
       "  '0087713313',\n",
       "  '0087684217',\n",
       "  '0087313486',\n",
       "  '0087747667',\n",
       "  '0087746834',\n",
       "  '0087615526',\n",
       "  '0087473801',\n",
       "  '0087411413',\n",
       "  '0087212183',\n",
       "  '0087696187',\n",
       "  '0087686006',\n",
       "  '0087682203',\n",
       "  '0087574244',\n",
       "  '0087394155',\n",
       "  '0087281246',\n",
       "  '0087581710',\n",
       "  '0087485268',\n",
       "  '0087391102',\n",
       "  '0087734673',\n",
       "  '0087734194',\n",
       "  '0087471326',\n",
       "  '0087286872',\n",
       "  '0087694869',\n",
       "  '0087756478',\n",
       "  '0087726000',\n",
       "  '0087381046',\n",
       "  '0087366922',\n",
       "  '0087574236',\n",
       "  '0087473199',\n",
       "  '0087726190',\n",
       "  '0087713073',\n",
       "  '0087295535',\n",
       "  '0087775247',\n",
       "  '0087784710',\n",
       "  '0087584235',\n",
       "  '0087584193',\n",
       "  '0087481697',\n",
       "  '0087313833',\n",
       "  '0087775361',\n",
       "  '0087172072',\n",
       "  '0087726901',\n",
       "  '0087583468',\n",
       "  '0087181024',\n",
       "  '0087184424',\n",
       "  '0087691469',\n",
       "  '0087481150',\n",
       "  '0087682518',\n",
       "  '0087718411',\n",
       "  '0087682161',\n",
       "  '0087571844',\n",
       "  '0087316604',\n",
       "  '0087756866',\n",
       "  '0087415166',\n",
       "  '0087413351',\n",
       "  '0087191114',\n",
       "  '0087111864',\n",
       "  '0087783001',\n",
       "  '0087734319',\n",
       "  '0087486019',\n",
       "  '0087212357',\n",
       "  '0087212241',\n",
       "  '0087686030',\n",
       "  '0087611590',\n",
       "  '0087413344',\n",
       "  '0087182204',\n",
       "  '0087396549',\n",
       "  '0087317305',\n",
       "  '0087718619',\n",
       "  '0087781088',\n",
       "  '0087721175',\n",
       "  '0087545111',\n",
       "  '0087382473',\n",
       "  '0087755363',\n",
       "  '0087276204',\n",
       "  '0087271122',\n",
       "  '0087342295',\n",
       "  '0087271882',\n",
       "  '0087712026',\n",
       "  '0087574491',\n",
       "  '0087313262',\n",
       "  '0087696195',\n",
       "  '0087582643',\n",
       "  '0087396580',\n",
       "  '0087276667',\n",
       "  '0087595595',\n",
       "  '0087473868',\n",
       "  '0087696260',\n",
       "  '0087381905',\n",
       "  '0087783530',\n",
       "  '0087723791',\n",
       "  '0087478768',\n",
       "  '0087286609',\n",
       "  '0087381160',\n",
       "  '0087172262',\n",
       "  '0087581793',\n",
       "  '0087317016',\n",
       "  '0087271494',\n",
       "  '0087345223',\n",
       "  '0087747576',\n",
       "  '0087682112',\n",
       "  '0087545202',\n",
       "  '0087784785',\n",
       "  '0087721787',\n",
       "  '0087613000',\n",
       "  '0087592881',\n",
       "  '0087295725',\n",
       "  '0087141507',\n",
       "  '0087743534',\n",
       "  '0087592683',\n",
       "  '0087756395',\n",
       "  '0087394494',\n",
       "  '0087342139',\n",
       "  '0087276261',\n",
       "  '0087181040',\n",
       "  '0087681452',\n",
       "  '0087543124',\n",
       "  '0087281410',\n",
       "  '0087444398',\n",
       "  '0087756817',\n",
       "  '0087718015',\n",
       "  '0087683227',\n",
       "  '0087575332',\n",
       "  '0087386409',\n",
       "  '0087276030',\n",
       "  '0087761742',\n",
       "  '0087722546',\n",
       "  '0087746339',\n",
       "  '0087478149',\n",
       "  '0087584508',\n",
       "  '0087581181',\n",
       "  '0087763003',\n",
       "  '0087746248',\n",
       "  '0087681478',\n",
       "  '0087613174',\n",
       "  '0087721753',\n",
       "  '0087481390',\n",
       "  '0087592709',\n",
       "  '0087141374',\n",
       "  '0087718577',\n",
       "  '0087713834',\n",
       "  '0087753764',\n",
       "  '0087723353',\n",
       "  '0087723320',\n",
       "  '0087721829',\n",
       "  '0087682146',\n",
       "  '0087345595',\n",
       "  '0087272013',\n",
       "  '0087193615',\n",
       "  '0087485185',\n",
       "  '0087584755',\n",
       "  '0087584540',\n",
       "  '0087478040',\n",
       "  '0087391565',\n",
       "  '0087751842',\n",
       "  '0087487637',\n",
       "  '0087342287',\n",
       "  '0087271536',\n",
       "  '0087192229',\n",
       "  '0087584532',\n",
       "  '0087547000',\n",
       "  '0087765354',\n",
       "  '0087276378',\n",
       "  '0087213421',\n",
       "  '0087171710',\n",
       "  '0087481705',\n",
       "  '0087381129',\n",
       "  '0087213678',\n",
       "  '0087296616',\n",
       "  '0087381186',\n",
       "  '0087193631',\n",
       "  '0087763722',\n",
       "  '0087756767',\n",
       "  '0087611772',\n",
       "  '0087575134',\n",
       "  '0087476689',\n",
       "  '0087747477',\n",
       "  '0087486126',\n",
       "  '0087382440',\n",
       "  '0087272096',\n",
       "  '0087141804',\n",
       "  '0087782607',\n",
       "  '0087142273',\n",
       "  '0087753558',\n",
       "  '0087571273',\n",
       "  '0087386656',\n",
       "  '0087212027',\n",
       "  '0087184259',\n",
       "  '0087471003',\n",
       "  '0087382861',\n",
       "  '0087276113',\n",
       "  '0087286732',\n",
       "  '0087763250',\n",
       "  '0087713859',\n",
       "  '0087447003',\n",
       "  '0087481176',\n",
       "  '0087444315',\n",
       "  '0087345033',\n",
       "  '0087592378',\n",
       "  '0087444349',\n",
       "  '0087486142',\n",
       "  '0087393348',\n",
       "  '0087386300',\n",
       "  '0087342337',\n",
       "  '0087212431',\n",
       "  '0087481234',\n",
       "  '0087381137',\n",
       "  '0087342535',\n",
       "  '0087113472',\n",
       "  '0087784892',\n",
       "  '0087116665',\n",
       "  '0087387001',\n",
       "  '0087192435',\n",
       "  '0087116293',\n",
       "  '0087773457',\n",
       "  '0087713651',\n",
       "  '0087276188',\n",
       "  '0087645473',\n",
       "  '0087574343',\n",
       "  '0087212258',\n",
       "  '0087756882',\n",
       "  '0087696294',\n",
       "  '0087448159',\n",
       "  '0087734715',\n",
       "  '0087491142',\n",
       "  '0087726711',\n",
       "  '0087486332',\n",
       "  '0087595322',\n",
       "  '0087471052',\n",
       "  '0087386730',\n",
       "  '0087741140',\n",
       "  '0087673624',\n",
       "  '0087611533',\n",
       "  '0087317065',\n",
       "  '0087276618',\n",
       "  '0087343418',\n",
       "  '0087182626',\n",
       "  '0087595876',\n",
       "  '0087476440',\n",
       "  '0087295642',\n",
       "  '0087141135',\n",
       "  '0087721456',\n",
       "  '0087175000',\n",
       "  '0087611459',\n",
       "  '0087276568',\n",
       "  '0087481366',\n",
       "  '0087697326',\n",
       "  '0087784777',\n",
       "  '0087671362',\n",
       "  '0087571828',\n",
       "  '0087473504',\n",
       "  '0087141044',\n",
       "  '0087116244',\n",
       "  '0087696351',\n",
       "  '0087618082',\n",
       "  '0087491506',\n",
       "  '0087784769',\n",
       "  '0087286419',\n",
       "  '0087215699',\n",
       "  '0087116079',\n",
       "  '0087784264',\n",
       "  '0087345116',\n",
       "  ...])"
      ]
     },
     "execution_count": 40,
     "metadata": {},
     "output_type": "execute_result"
    }
   ],
   "source": [
    "tmp3 = [item.station_id for item in df_stations.select(\"station_id\").distinct().collect()]\n",
    "len(tmp3), tmp3"
   ]
  },
  {
   "cell_type": "code",
   "execution_count": 42,
   "metadata": {},
   "outputs": [
    {
     "data": {
      "text/plain": [
       "True"
      ]
     },
     "execution_count": 42,
     "metadata": {},
     "output_type": "execute_result"
    }
   ],
   "source": [
    "len(set(tmp1).intersection(tmp3)) == len(tmp1)"
   ]
  },
  {
   "cell_type": "code",
   "execution_count": 43,
   "metadata": {},
   "outputs": [
    {
     "data": {
      "text/plain": [
       "True"
      ]
     },
     "execution_count": 43,
     "metadata": {},
     "output_type": "execute_result"
    }
   ],
   "source": [
    "len(set(tmp2).intersection(tmp3)) == len(tmp2)"
   ]
  },
  {
   "cell_type": "code",
   "execution_count": 45,
   "metadata": {},
   "outputs": [
    {
     "name": "stdout",
     "output_type": "stream",
     "text": [
      "['date_and_time', 'station', 'station_id', 'property_nature', 'property_type', 'recording_type', 'date']\n"
     ]
    }
   ],
   "source": [
    "print(df_lost.columns)"
   ]
  },
  {
   "cell_type": "code",
   "execution_count": 47,
   "metadata": {},
   "outputs": [
    {
     "name": "stdout",
     "output_type": "stream",
     "text": [
      "['date', 'county_code', 'county_name', 'min_temperature', 'max_temperature', 'avg_temperature']\n"
     ]
    }
   ],
   "source": [
    "print(df_temperature.columns)"
   ]
  },
  {
   "cell_type": "code",
   "execution_count": 50,
   "metadata": {},
   "outputs": [
    {
     "name": "stdout",
     "output_type": "stream",
     "text": [
      "+-------------------+-------------------+--------------------+----------+--------------------+--------------------+--------------+------------------+\n",
      "|      date_and_time|      recovery_date|             station|station_id|     property_nature|       property_type|recording_type|         diff_date|\n",
      "+-------------------+-------------------+--------------------+----------+--------------------+--------------------+--------------+------------------+\n",
      "|2018-01-23 14:33:43|               null|             Bourges|0087576207|Autres divers (pr...|              Divers|  Objet trouvé|              null|\n",
      "|2014-03-10 09:07:15|               null|   Toulouse Matabiau|0087611004|Sac de voyage, sa...|Bagagerie: sacs, ...|  Objet trouvé|              null|\n",
      "|2014-02-06 08:45:32|               null|   Toulouse Matabiau|0087611004|           Sac à dos|Bagagerie: sacs, ...|  Objet trouvé|              null|\n",
      "|2014-03-10 09:14:38|               null|           Paris Est|0087113001|Manteau, veste, b...|Vêtements, chauss...|  Objet trouvé|              null|\n",
      "|2014-02-06 09:01:24|2014-02-07 20:55:39|           Paris Est|0087113001|Valise, sac sur r...|Bagagerie: sacs, ...|  Objet trouvé| 35.90416666666667|\n",
      "|2014-03-10 09:24:59|2014-03-24 14:52:05|       Lyon Perrache|0087722025|Valise, sac sur r...|Bagagerie: sacs, ...|  Objet trouvé|341.45166666666665|\n",
      "|2014-02-06 09:39:00|               null|  Paris Gare du Nord|0087271007|            Lunettes|             Optique|  Objet trouvé|              null|\n",
      "|2014-03-10 12:01:17|               null|          Strasbourg|0087212027|    Clés, porte-clés|Clés, porte-clés,...|  Objet trouvé|              null|\n",
      "|2014-02-06 09:51:08|               null|  Paris Gare du Nord|0087271007|Porte-monnaie, po...|Porte-monnaie / p...|  Objet trouvé|              null|\n",
      "|2014-03-10 16:13:47|               null|          Strasbourg|0087212027|            Lunettes|             Optique|  Objet trouvé|              null|\n",
      "|2014-02-06 10:06:11|               null| Bordeaux Saint-Jean|0087581009|  Carte d'abonnement|Pièces d'identité...|  Objet trouvé|              null|\n",
      "|2014-02-04 08:47:15|               null|  Paris Montparnasse|0087391003|         Autre livre|Livres, articles ...|  Objet trouvé|              null|\n",
      "|2014-02-06 10:49:27|2014-02-09 17:06:02|  Paris Gare du Nord|0087271007|Autres divers (pr...|              Divers|  Objet trouvé| 78.27638888888889|\n",
      "|2014-02-04 10:06:25|               null|  Paris Montparnasse|0087391003|Etui à lunettes vide|             Optique|  Objet trouvé|              null|\n",
      "|2014-02-06 11:50:26|               null| Bordeaux Saint-Jean|0087581009|Porte-monnaie, po...|Porte-monnaie / p...|  Objet trouvé|              null|\n",
      "|2014-02-04 14:05:03|               null|    Chalon-sur-Saône|0087725002|Parapluie-canne, ...|          Parapluies|  Objet trouvé|              null|\n",
      "|2014-02-06 13:51:16|               null|Marseille Saint-C...|0087751008|    Lunettes en étui|             Optique|  Objet trouvé|              null|\n",
      "|2014-02-04 15:07:08|2014-02-07 15:43:37|      Avignon Centre|0087765008|           Sac à dos|Bagagerie: sacs, ...|  Objet trouvé| 72.60805555555555|\n",
      "|2014-02-06 18:21:09|2014-02-10 12:47:30|  Paris Gare du Nord|0087271007|Autre bagagerie (...|Bagagerie: sacs, ...|  Objet trouvé| 90.43916666666667|\n",
      "|2014-02-04 21:29:25|               null| Bordeaux Saint-Jean|0087581009|  Carte d'abonnement|Pièces d'identité...|  Objet trouvé|              null|\n",
      "+-------------------+-------------------+--------------------+----------+--------------------+--------------------+--------------+------------------+\n",
      "only showing top 20 rows\n",
      "\n"
     ]
    }
   ],
   "source": [
    "diff_secs_col = F.col(\"recovery_date\").cast(\"long\") - F.col(\"date_and_time\").cast(\"long\")\n",
    "df_found.withColumn(\"diff_date\", diff_secs_col/3600.0).show()"
   ]
  },
  {
   "cell_type": "code",
   "execution_count": 51,
   "metadata": {},
   "outputs": [
    {
     "data": {
      "text/plain": [
       "336"
      ]
     },
     "execution_count": 51,
     "metadata": {},
     "output_type": "execute_result"
    }
   ],
   "source": [
    "14*24"
   ]
  },
  {
   "cell_type": "code",
   "execution_count": 62,
   "metadata": {},
   "outputs": [],
   "source": [
    "df_time = reduce(pyspark.sql.DataFrame.unionAll, [df_lost.select(\"date_and_time\"), df_found.select(\"date_and_time\"), df_found.select(\"recovery_date\")]).distinct()"
   ]
  },
  {
   "cell_type": "code",
   "execution_count": 63,
   "metadata": {},
   "outputs": [
    {
     "name": "stdout",
     "output_type": "stream",
     "text": [
      "+-------------------+\n",
      "|      date_and_time|\n",
      "+-------------------+\n",
      "|2019-02-15 14:32:49|\n",
      "|2019-02-18 15:29:55|\n",
      "|2019-02-19 16:53:07|\n",
      "|2019-02-25 12:40:32|\n",
      "|2019-02-25 13:48:30|\n",
      "|2019-02-26 10:06:24|\n",
      "|2019-02-26 14:45:29|\n",
      "|2019-02-27 18:46:09|\n",
      "|2019-02-28 08:42:35|\n",
      "|2019-03-01 14:35:49|\n",
      "|2019-03-04 12:44:20|\n",
      "|2019-03-27 17:22:13|\n",
      "|2019-03-28 10:24:14|\n",
      "|2019-03-28 13:38:11|\n",
      "|2019-03-29 07:01:21|\n",
      "|2019-03-30 21:14:55|\n",
      "|2019-03-31 10:41:33|\n",
      "|2019-08-11 12:02:24|\n",
      "|2018-03-07 09:43:13|\n",
      "|2019-08-12 13:19:55|\n",
      "+-------------------+\n",
      "only showing top 20 rows\n",
      "\n"
     ]
    }
   ],
   "source": [
    "df_time.show()"
   ]
  },
  {
   "cell_type": "code",
   "execution_count": 64,
   "metadata": {},
   "outputs": [
    {
     "name": "stdout",
     "output_type": "stream",
     "text": [
      "root\n",
      " |-- date_and_time: timestamp (nullable = true)\n",
      "\n"
     ]
    }
   ],
   "source": [
    "df_time.printSchema()"
   ]
  },
  {
   "cell_type": "code",
   "execution_count": 65,
   "metadata": {},
   "outputs": [
    {
     "data": {
      "text/plain": [
       "1954980"
      ]
     },
     "execution_count": 65,
     "metadata": {},
     "output_type": "execute_result"
    }
   ],
   "source": [
    "df_time.count()"
   ]
  },
  {
   "cell_type": "code",
   "execution_count": null,
   "metadata": {},
   "outputs": [],
   "source": []
  }
 ],
 "metadata": {
  "kernelspec": {
   "display_name": "pyspark",
   "language": "python",
   "name": "pyspark"
  },
  "language_info": {
   "codemirror_mode": {
    "name": "ipython",
    "version": 3
   },
   "file_extension": ".py",
   "mimetype": "text/x-python",
   "name": "python",
   "nbconvert_exporter": "python",
   "pygments_lexer": "ipython3",
   "version": "3.6.12"
  }
 },
 "nbformat": 4,
 "nbformat_minor": 4
}
